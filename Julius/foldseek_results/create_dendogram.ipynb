{
 "cells": [
  {
   "cell_type": "code",
   "execution_count": null,
   "metadata": {},
   "outputs": [],
   "source": [
    "# First, let's read the contents of the uploaded alignment file to understand its format and identify where the similarity score might be.\n",
    "file_path = '/mnt/data/aln'\n",
    "\n",
    "# Open and read the contents of the file\n",
    "with open(file_path, 'r') as file:\n",
    "    contents = file.read()\n",
    "\n",
    "# Display the first few lines of the file to determine the format and find the similarity score\n",
    "print(contents[:1000])  # Displaying the first 1000 characters to get a good overview of the content format\n"
   ]
  },
  {
   "cell_type": "code",
   "execution_count": null,
   "metadata": {},
   "outputs": [],
   "source": [
    "from scipy.cluster.hierarchy import dendrogram, linkage\n",
    "import matplotlib.pyplot as plt\n",
    "\n",
    "# Assuming similarity scores range from 0 (no similarity) to 1 (identical), compute the distance as (1 - similarity score)\n",
    "df['Distance'] = 1 - df['Similarity Score']\n",
    "\n",
    "# Create a distance matrix\n",
    "unique_ids = pd.unique(df[['Query ID', 'Target ID']].values.ravel('K'))\n",
    "distance_matrix = pd.DataFrame(1, index=unique_ids, columns=unique_ids)  # Start with a matrix of all 1s (maximum distance)\n",
    "\n",
    "# Fill the matrix with actual distances\n",
    "for index, row in df.iterrows():\n",
    "    distance_matrix.at[row['Query ID'], row['Target ID']] = row['Distance']\n",
    "    distance_matrix.at[row['Target ID'], row['Query ID']] = row['Distance']\n",
    "\n",
    "# Since the neighbor-joining method requires a condensed distance matrix (upper triangular),\n",
    "# we will convert the full matrix to a condensed form required by scipy's linkage function.\n",
    "condensed_matrix = distance_matrix.where(np.triu(np.ones(distance_matrix.shape), k=1).astype(bool)).stack()\n",
    "\n",
    "# Perform hierarchical clustering using the neighbor-joining method\n",
    "Z = linkage(condensed_matrix, 'average')  # Using average linkage for this example\n",
    "\n",
    "# Plotting the dendrogram\n",
    "plt.figure(figsize=(10, 8))\n",
    "dendrogram(Z, labels=unique_ids, leaf_rotation=90, leaf_font_size=10)\n",
    "plt.title('Dendrogram using Neighbor-Joining')\n",
    "plt.xlabel('Species')\n",
    "plt.ylabel('Distance')\n",
    "plt.show()\n"
   ]
  },
  {
   "cell_type": "code",
   "execution_count": null,
   "metadata": {},
   "outputs": [],
   "source": [
    "import numpy as np\n",
    "\n",
    "# Correcting the error by importing numpy and then converting the full matrix to a condensed form required by scipy's linkage function.\n",
    "condensed_matrix = distance_matrix.where(np.triu(np.ones(distance_matrix.shape), k=1).astype(bool)).stack()\n",
    "\n",
    "# Perform hierarchical clustering using the neighbor-joining method\n",
    "Z = linkage(condensed_matrix, 'average')  # Using average linkage for this example\n",
    "\n",
    "# Plotting the dendrogram\n",
    "plt.figure(figsize=(10, 8))\n",
    "dendrogram(Z, labels=unique_ids, leaf_rotation=90, leaf_font_size=10)\n",
    "plt.title('Dendrogram using Neighbor-Joining')\n",
    "plt.xlabel('Species')\n",
    "plt.ylabel('Distance')\n",
    "plt.show()\n"
   ]
  },
  {
   "cell_type": "code",
   "execution_count": null,
   "metadata": {},
   "outputs": [],
   "source": [
    "from scipy.cluster.hierarchy import to_tree\n",
    "\n",
    "# Convert linkage matrix to a Newick string\n",
    "def linkage_to_newick(Z, labels):\n",
    "    tree = to_tree(Z, rd=False)\n",
    "    def build_newick(node):\n",
    "        if node.is_leaf():\n",
    "            return labels[node.id]\n",
    "        else:\n",
    "            return f\"({build_newick(node.left)},{build_newick(node.right)})\"\n",
    "    return build_newick(tree) + \";\"\n",
    "\n",
    "# Generate Newick string\n",
    "newick_str = linkage_to_newick(Z, unique_ids)\n",
    "newick_file_path = '/mnt/data/phylogenetic_tree.newick'\n",
    "\n",
    "# Save to a file\n",
    "with open(newick_file_path, 'w') as file:\n",
    "    file.write(newick_str)\n",
    "\n",
    "newick_file_path\n"
   ]
  },
  {
   "cell_type": "code",
   "execution_count": null,
   "metadata": {},
   "outputs": [],
   "source": [
    "# Function to modify labels: remove everything after the second underscore and replace underscores with spaces\n",
    "def modify_labels(label):\n",
    "    parts = label.split('_')\n",
    "    if len(parts) > 2:\n",
    "        modified_label = ' '.join(parts[:2])\n",
    "    else:\n",
    "        modified_label = ' '.join(parts)\n",
    "    return modified_label\n",
    "\n",
    "# Apply modifications to labels\n",
    "modified_labels = [modify_labels(label) for label in unique_ids]\n",
    "\n",
    "# Generate Newick string with modified labels\n",
    "modified_newick_str = linkage_to_newick(Z, modified_labels)\n",
    "modified_newick_file_path = '/mnt/data/modified_phylogenetic_tree.newick'\n",
    "\n",
    "# Save to a file\n",
    "with open(modified_newick_file_path, 'w') as file:\n",
    "    file.write(modified_newick_str)\n",
    "\n",
    "modified_newick_file_path\n"
   ]
  }
 ],
 "metadata": {
  "language_info": {
   "name": "python"
  }
 },
 "nbformat": 4,
 "nbformat_minor": 2
}
