{
 "cells": [
  {
   "cell_type": "code",
   "execution_count": 7,
   "metadata": {},
   "outputs": [],
   "source": [
    "import os\n",
    "\n",
    "from google.auth.transport.requests import Request\n",
    "from google.oauth2.credentials import Credentials\n",
    "from google_auth_oauthlib.flow import InstalledAppFlow\n",
    "from googleapiclient.discovery import build\n",
    "from googleapiclient.errors import HttpError\n"
   ]
  },
  {
   "cell_type": "code",
   "execution_count": 8,
   "metadata": {},
   "outputs": [],
   "source": [
    "SCOPES = [\"https://www.googleapis.com/auth/spreadsheets\"]\n",
    "SPREADSHEET_ID = \"1UZ6ZI3MWDeSO_w1joJPHb8_mgzRuL4OSAgpRmkjFjyo\"\n",
    "RANGE_NAME = \"Dataset\""
   ]
  },
  {
   "cell_type": "code",
   "execution_count": 11,
   "metadata": {},
   "outputs": [],
   "source": [
    "# Initialize credentials\n",
    "credentials = None\n",
    "if os.path.exists(\"token.json\"):\n",
    "    credentials = Credentials.from_authorized_user_file(\"token.json\", SCOPES)\n",
    "if not credentials or not credentials.valid:\n",
    "    if credentials and credentials.expired and credentials.refresh_token:\n",
    "        credentials.refresh(Request())\n",
    "    else:\n",
    "        flow = InstalledAppFlow.from_client_secrets_file(\"credits.json\", SCOPES)\n",
    "        credentials = flow.run_local_server(port=0)\n",
    "    with open(\"token.json\", \"w\") as token:\n",
    "        token.write(credentials.to_json())\n",
    "\n",
    "try:\n",
    "    # Build the service\n",
    "    service = build(\"sheets\", \"v4\", credentials=credentials)\n",
    "    sheet = service.spreadsheets()\n",
    "\n",
    "    # Call the Sheets API to fetch data\n",
    "    result = sheet.values().get(spreadsheetId=SPREADSHEET_ID, range=RANGE_NAME).execute()\n",
    "    values = result.get('values', [])\n",
    "\n",
    "    if not values:\n",
    "        print('No data found.')\n",
    "    else:\n",
    "        # Ensure the Output directory exists\n",
    "        os.makedirs(\"Output\", exist_ok=True)\n",
    "        # Open or create a FASTA file for writing, skipping the first row\n",
    "        with open(\"Output/Embeding_Sequences.fasta\", \"w\") as fasta_file:\n",
    "            for row in values[1:]:  # Skip the first row by starting from the second row\n",
    "                # Assuming the name is in column B (index 1), gene in column C (index 2), Protein_id in column F (index 5), and the sequence in column Q (index 16)\n",
    "                species = row[1] if len(row) > 1 else \"Unknown\"\n",
    "                gene = row[2] if len(row) > 2 else \"Unknown\"\n",
    "                Protein_id = row[5] if len(row) > 5 else \"Unknown\"\n",
    "                sequence = row[16] if len(row) > 16 else \"Unknown\"\n",
    "                # Write to FASTA format\n",
    "                fasta_file.write(f\">{species}|{gene}|{Protein_id}\\n{sequence}\\n\")\n",
    "\n",
    "except HttpError as error:\n",
    "    print(error)"
   ]
  },
  {
   "cell_type": "code",
   "execution_count": null,
   "metadata": {},
   "outputs": [],
   "source": []
  }
 ],
 "metadata": {
  "kernelspec": {
   "display_name": "signalP6",
   "language": "python",
   "name": "python3"
  },
  "language_info": {
   "codemirror_mode": {
    "name": "ipython",
    "version": 3
   },
   "file_extension": ".py",
   "mimetype": "text/x-python",
   "name": "python",
   "nbconvert_exporter": "python",
   "pygments_lexer": "ipython3",
   "version": "3.12.2"
  }
 },
 "nbformat": 4,
 "nbformat_minor": 2
}
