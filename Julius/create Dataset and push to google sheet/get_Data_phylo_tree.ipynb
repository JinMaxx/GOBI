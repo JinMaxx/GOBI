{
 "cells": [
  {
   "cell_type": "code",
   "execution_count": 5,
   "metadata": {},
   "outputs": [],
   "source": [
    "import os\n",
    "from google.oauth2.credentials import Credentials\n",
    "from google_auth_oauthlib.flow import InstalledAppFlow\n",
    "from googleapiclient.discovery import build\n",
    "from googleapiclient.errors import HttpError\n",
    "from google.auth.transport.requests import Request"
   ]
  },
  {
   "cell_type": "code",
   "execution_count": 6,
   "metadata": {},
   "outputs": [],
   "source": [
    "SCOPES = [\"https://www.googleapis.com/auth/spreadsheets\"]\n",
    "SPREADSHEET_ID = \"1UZ6ZI3MWDeSO_w1joJPHb8_mgzRuL4OSAgpRmkjFjyo\"\n",
    "RANGE_NAME = \"Dataset\""
   ]
  },
  {
   "cell_type": "code",
   "execution_count": 3,
   "metadata": {},
   "outputs": [],
   "source": [
    "# Update which one is in the Tree"
   ]
  },
  {
   "cell_type": "code",
   "execution_count": 4,
   "metadata": {},
   "outputs": [
    {
     "name": "stdout",
     "output_type": "stream",
     "text": [
      "1124 cells updated.\n"
     ]
    }
   ],
   "source": [
    "# Initialize credentials\n",
    "credentials = None\n",
    "if os.path.exists(\"token.json\"):\n",
    "    credentials = Credentials.from_authorized_user_file(\"token.json\", SCOPES)\n",
    "if not credentials or not credentials.valid:\n",
    "    if credentials and credentials.expired and credentials.refresh_token:\n",
    "        credentials.refresh(Request())\n",
    "    else:\n",
    "        flow = InstalledAppFlow.from_client_secrets_file(\"credits.json\", SCOPES)\n",
    "        credentials = flow.run_local_server(port=0)\n",
    "    with open(\"token.json\", \"w\") as token:\n",
    "        token.write(credentials.to_json())\n",
    "\n",
    "try:\n",
    "    # Build the service\n",
    "    service = build(\"sheets\", \"v4\", credentials=credentials)\n",
    "    sheet = service.spreadsheets()\n",
    "\n",
    "    # Call the Sheets API to fetch data\n",
    "    result = sheet.values().get(spreadsheetId=SPREADSHEET_ID, range=RANGE_NAME).execute()\n",
    "    values = result.get('values', [])\n",
    "    \n",
    "    if not values or len(values) < 2:\n",
    "        print('No data found or only header row present.')\n",
    "    else:\n",
    "        # Skip the first row (header) and process the remaining rows\n",
    "        values_to_process = values[1:]  # Exclude the header row\n",
    "\n",
    "        # Process rows to find longest sequences for the same values in Columns C and B\n",
    "        records = {}  # key: (C, B) values, value: (index, sequence length)\n",
    "        for index, row in enumerate(values_to_process, start=1):  # Start index at 1 to adjust for the header\n",
    "            if len(row) > max(2, 1, 16):  # Ensure row has enough columns\n",
    "                key = (row[2], row[1])  # Column C and B values\n",
    "                seq_length = len(row[16])  # Column Q value (sequence length)\n",
    "                if key not in records or records[key][1] < seq_length:\n",
    "                    records[key] = (index, seq_length)\n",
    "\n",
    "        # Update values to include \"Yes\" or \"No\" in Column G based on the longest sequence\n",
    "        for key, (winning_index, _) in records.items():\n",
    "            for index, row in enumerate(values_to_process, start=1):  # Adjust index to match overall list\n",
    "                if len(row) > max(2, 1, 16) and (row[2], row[1]) == key:\n",
    "                    if index == winning_index:\n",
    "                        if len(row) < 6:  # Ensure the row has a Column G\n",
    "                            row.extend([\"\"] * (6 - len(row)))\n",
    "                        row[6] = \"Yes\"  # Mark the row with the longest sequence\n",
    "                    else:\n",
    "                        if len(row) < 6:\n",
    "                            row.extend([\"\"] * (6 - len(row)))\n",
    "                        row[6] = \"No\"\n",
    "\n",
    "        # Prepare the data for updating (including the header row)\n",
    "        body = {\n",
    "            'values': values  # Use the original values list to maintain the header row\n",
    "        }\n",
    "        # Update the sheet with \"Yes\" or \"No\" in Column G\n",
    "        update_result = sheet.values().update(\n",
    "            spreadsheetId=SPREADSHEET_ID, range=RANGE_NAME,\n",
    "            valueInputOption=\"RAW\", body=body).execute()\n",
    "        print(f\"{update_result.get('updatedCells')} cells updated.\")\n",
    "\n",
    "except HttpError as error:\n",
    "    print(error)"
   ]
  },
  {
   "cell_type": "code",
   "execution_count": 22,
   "metadata": {},
   "outputs": [],
   "source": [
    "# extract the relevant sequences with Timless and Timeout"
   ]
  },
  {
   "cell_type": "code",
   "execution_count": 7,
   "metadata": {},
   "outputs": [],
   "source": [
    "# Initialize credentials\n",
    "credentials = None\n",
    "if os.path.exists(\"token.json\"):\n",
    "    credentials = Credentials.from_authorized_user_file(\"token.json\", SCOPES)\n",
    "if not credentials or not credentials.valid:\n",
    "    if credentials and credentials.expired and credentials.refresh_token:\n",
    "        credentials.refresh(Request())\n",
    "    else:\n",
    "        flow = InstalledAppFlow.from_client_secrets_file(\"credits.json\", SCOPES)\n",
    "        credentials = flow.run_local_server(port=0)\n",
    "    with open(\"token.json\", \"w\") as token:\n",
    "        token.write(credentials.to_json())\n",
    "\n",
    "try:\n",
    "    # Build the service\n",
    "    service = build(\"sheets\", \"v4\", credentials=credentials)\n",
    "    sheet = service.spreadsheets()\n",
    "\n",
    "    # Call the Sheets API to fetch data\n",
    "    result = sheet.values().get(spreadsheetId=SPREADSHEET_ID, range=RANGE_NAME).execute()\n",
    "    values = result.get('values', [])\n",
    "\n",
    "    if not values:\n",
    "        print('No data found.')\n",
    "    else:\n",
    "        # Open or create a FASTA file for writing sequences marked with \"Yes\" in column G\n",
    "        with open(\"Output/sequences_Timeout_and_timeless.fasta\", \"w\") as fasta_file:\n",
    "            for row in values:\n",
    "                if len(row) >= 7 and row[6] == \"Yes\":  # Check if column G (index 6) is \"Yes\"\n",
    "                    # Assuming the name is in column B (index 1), C (index 2), and F (index 5) and the sequence in column Q (index 16)\n",
    "                    species = row[1] if len(row) > 1 else \"Unknown\"\n",
    "                    gene = row[2] if len(row) > 2 else \"Unknown\"\n",
    "                    protein_id = row[5] if len(row) > 5 else \"Unknown\"\n",
    "                    sequence = row[16] if len(row) > 16 else \"Unknown\"\n",
    "                    # Write to FASTA format\n",
    "                    fasta_file.write(f\">{species}|{gene}|{protein_id}\\n{sequence}\\n\")\n",
    "\n",
    "except HttpError as error:\n",
    "    print(error)"
   ]
  },
  {
   "cell_type": "code",
   "execution_count": 24,
   "metadata": {},
   "outputs": [],
   "source": [
    "# extract the relevant sequences Only Timeout"
   ]
  },
  {
   "cell_type": "code",
   "execution_count": 25,
   "metadata": {},
   "outputs": [],
   "source": [
    "# Initialize credentials\n",
    "credentials = None\n",
    "if os.path.exists(\"token.json\"):\n",
    "    credentials = Credentials.from_authorized_user_file(\"token.json\", SCOPES)\n",
    "if not credentials or not credentials.valid:\n",
    "    if credentials and credentials.expired and credentials.refresh_token:\n",
    "        credentials.refresh(Request())\n",
    "    else:\n",
    "        flow = InstalledAppFlow.from_client_secrets_file(\"credits.json\", SCOPES)\n",
    "        credentials = flow.run_local_server(port=0)\n",
    "    with open(\"token.json\", \"w\") as token:\n",
    "        token.write(credentials.to_json())\n",
    "\n",
    "try:\n",
    "    # Build the service\n",
    "    service = build(\"sheets\", \"v4\", credentials=credentials)\n",
    "    sheet = service.spreadsheets()\n",
    "\n",
    "    # Call the Sheets API to fetch data\n",
    "    result = sheet.values().get(spreadsheetId=SPREADSHEET_ID, range=RANGE_NAME).execute()\n",
    "    values = result.get('values', [])\n",
    "\n",
    "    if not values:\n",
    "        print('No data found.')\n",
    "    else:\n",
    "        # Open or create a FASTA file for writing sequences marked with \"Yes\" in column G\n",
    "        with open(\"Output/sequences_Timeout.fasta\", \"w\") as fasta_file:\n",
    "            for row in values:\n",
    "                if len(row) >= 7 and row[6] == \"Yes\" and row[2] == \"Timeout\":  # Check if column G (index 6) is \"Yes\"\n",
    "                    # Assuming the name is in column B (index 1), C (index 2), and F (index 5) and the sequence in column Q (index 16)\n",
    "                    species = row[1] if len(row) > 1 else \"Unknown\"\n",
    "                    gene = row[2] if len(row) > 2 else \"Unknown\"\n",
    "                    protein_id = row[5] if len(row) > 5 else \"Unknown\"\n",
    "                    sequence = row[16] if len(row) > 16 else \"Unknown\"\n",
    "                    # Write to FASTA format\n",
    "                    fasta_file.write(f\">{species}|{gene}|{protein_id}\\n{sequence}\\n\")\n",
    "\n",
    "except HttpError as error:\n",
    "    print(error)"
   ]
  },
  {
   "cell_type": "code",
   "execution_count": null,
   "metadata": {},
   "outputs": [],
   "source": []
  }
 ],
 "metadata": {
  "kernelspec": {
   "display_name": "plotyUMAP",
   "language": "python",
   "name": "python3"
  },
  "language_info": {
   "codemirror_mode": {
    "name": "ipython",
    "version": 3
   },
   "file_extension": ".py",
   "mimetype": "text/x-python",
   "name": "python",
   "nbconvert_exporter": "python",
   "pygments_lexer": "ipython3",
   "version": "3.12.2"
  }
 },
 "nbformat": 4,
 "nbformat_minor": 2
}
