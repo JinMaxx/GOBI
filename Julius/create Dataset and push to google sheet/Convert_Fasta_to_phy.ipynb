{
 "cells": [
  {
   "cell_type": "code",
   "execution_count": 4,
   "metadata": {},
   "outputs": [],
   "source": [
    "from Bio import SeqIO\n",
    "import os"
   ]
  },
  {
   "cell_type": "code",
   "execution_count": 5,
   "metadata": {},
   "outputs": [],
   "source": [
    "# convert fasta to phy"
   ]
  },
  {
   "cell_type": "code",
   "execution_count": 6,
   "metadata": {},
   "outputs": [],
   "source": [
    "def fasta_to_phy(fasta_file, phy_file):\n",
    "    \"\"\"\n",
    "    Converts a FASTA file to a Phylip file using Biopython's SeqIO.\n",
    "\n",
    "    Parameters:\n",
    "    fasta_file (str): Path to the input FASTA file.\n",
    "    phy_file (str): Path to the output Phylip file.\n",
    "    \"\"\"\n",
    "\n",
    "    # Read the FASTA file\n",
    "    records = list(SeqIO.parse(fasta_file, \"fasta\"))\n",
    "\n",
    "    # Write to a Phylip file\n",
    "    SeqIO.write(records, phy_file, \"phylip\")\n",
    "\n",
    "# Example usage\n",
    "fasta_file = \"/Users/julius/Gobi/Final_results/Mafft_alignmet/Timeless_Mafft_alignment_linsi_maxiterate1000_localpair.fasta\" # Replace with your FASTA file path\n",
    "phy_file = \"/Users/julius/Gobi/Final_results/Mafft_alignmet/Timeless_Mafft_alignment_linsi_maxiterate1000_localpair.phy\" # Replace with your desired output file path\n",
    "fasta_to_phy(fasta_file, phy_file)\n"
   ]
  },
  {
   "cell_type": "code",
   "execution_count": null,
   "metadata": {},
   "outputs": [],
   "source": [
    "#split fasta file into multiple "
   ]
  },
  {
   "cell_type": "code",
   "execution_count": 5,
   "metadata": {},
   "outputs": [],
   "source": [
    "\n",
    "\n",
    "def split_fasta(input_fasta, output_folder):\n",
    "    \"\"\"\n",
    "    Split a FASTA file into multiple FASTA files, each containing one sequence, and save them to a specified folder.\n",
    "    \n",
    "    Parameters:\n",
    "    - input_fasta: Path to the input FASTA file.\n",
    "    - output_folder: Path to the folder where output FASTA files will be saved.\n",
    "    \"\"\"\n",
    "    # Ensure the output folder exists, create it if not\n",
    "    if not os.path.exists(output_folder):\n",
    "        os.makedirs(output_folder)\n",
    "    \n",
    "    # Open the input FASTA file\n",
    "    with open(input_fasta, 'r') as file:\n",
    "        content = file.read()\n",
    "    \n",
    "    # Split the file content by '>' to separate sequences, skipping the first empty element if file starts with '>'\n",
    "    sequences = content.split('>')[1:]\n",
    "    \n",
    "    for seq in sequences:\n",
    "        # Split each sequence into header and sequence parts\n",
    "        parts = seq.split('\\n', 1)\n",
    "        header = parts[0].strip().replace(' ', '_').replace('|', '_')\n",
    "        sequence = parts[1].strip()\n",
    "        \n",
    "        # Create a file name based on the header and ensure it is saved in the output folder\n",
    "        filename = os.path.join(output_folder, f\"{header}.fasta\")\n",
    "        \n",
    "        # Write the sequence to its own file\n",
    "        with open(filename, 'w') as output_file:\n",
    "            output_file.write(f\">{header}\\n{sequence}\")\n",
    "\n",
    "\n"
   ]
  },
  {
   "cell_type": "code",
   "execution_count": 6,
   "metadata": {},
   "outputs": [],
   "source": [
    "input_fasta_path = '/Users/julius/Gobi/fetch_data/Output/sequences_Timeout_and_timeless_Final.fasta'\n",
    "output_folder_path = '/Users/julius/Gobi/fetch_data/single_fasta_sequences'\n",
    "\n",
    "split_fasta(input_fasta_path, output_folder_path)"
   ]
  },
  {
   "cell_type": "code",
   "execution_count": null,
   "metadata": {},
   "outputs": [],
   "source": []
  }
 ],
 "metadata": {
  "kernelspec": {
   "display_name": "plotyUMAP",
   "language": "python",
   "name": "python3"
  },
  "language_info": {
   "codemirror_mode": {
    "name": "ipython",
    "version": 3
   },
   "file_extension": ".py",
   "mimetype": "text/x-python",
   "name": "python",
   "nbconvert_exporter": "python",
   "pygments_lexer": "ipython3",
   "version": "3.12.2"
  }
 },
 "nbformat": 4,
 "nbformat_minor": 2
}
