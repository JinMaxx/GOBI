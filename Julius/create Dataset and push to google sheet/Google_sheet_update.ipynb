{
 "cells": [
  {
   "cell_type": "code",
   "execution_count": 33,
   "metadata": {},
   "outputs": [],
   "source": [
    "import os\n",
    "\n",
    "from google.auth.transport.requests import Request\n",
    "from google.oauth2.credentials import Credentials\n",
    "from google_auth_oauthlib.flow import InstalledAppFlow\n",
    "from googleapiclient.discovery import build\n",
    "from googleapiclient.errors import HttpError\n",
    "\n",
    "from Bio import Entrez"
   ]
  },
  {
   "cell_type": "code",
   "execution_count": 34,
   "metadata": {},
   "outputs": [],
   "source": [
    "SCOPES = [\"https://www.googleapis.com/auth/spreadsheets\"]\n",
    "SPREADSHEET_ID = \"1UZ6ZI3MWDeSO_w1joJPHb8_mgzRuL4OSAgpRmkjFjyo\"\n",
    "RANGE_NAME = \"Dataset\"\n",
    "GENE_ID = \"103574560\"\n",
    "#Gene = \"Timeless\"\n",
    "Gene = \"Timeout\""
   ]
  },
  {
   "cell_type": "code",
   "execution_count": 32,
   "metadata": {},
   "outputs": [
    {
     "name": "stdout",
     "output_type": "stream",
     "text": [
      "Protein Accession: 665807903\n",
      ">XP_008552252.1 protein timeless homolog [Microplitis demolitor]\n",
      "MADYISAELAATCDALGYYDGATYHLDSDALNVIKDLIKYLKRDDDTHTVRRYLGQAKLLETDLIQILIQ\n",
      "HSNKSELWDVLLRLMINLTSPALMFYNEELPAERTNRNYYLQLVSYLQGYKKALTDDRLWTVVSNRLGKI\n",
      "LKIDTSERGEENELIIERILTLIRNVLQVPPHDNDKRADNDATVHDEVLFALHASGIVDLLLFIASNSSE\n",
      "QQFHVQIIEIIALMLREQNASKLAVVGLERTAEEKAREEAKLLAVRQKEITEKMEKMKKYSGSRHSRFGG\n",
      "TFVVQNMKAIGDNQMICHKPFEKIEALEFSRDKGKMKKPKNRVFVEPSVEERMSALSVRLFLKEFCVEFL\n",
      "IGAYNPVMRYAKSFIIGDSADKSDGIHYFWALRFFMEFNRHYKFQVKYVSETVSTETFYLVQRQMEQYYE\n",
      "LLMADKKKPAFWLRRLHEALKAYQELLHTLGAMDKALDKGVRDSSKVIKSNIFYVPEYRETILGQLLSYN\n",
      "GLKMSRNYLVDLITTVHIFLKMLEHFCAQSRNVMVAKSKAKRRKSTKKKNKPEKEKEQTTAIQKSLDERW\n",
      "DDAGPELSAVMQDGTIPDVIPFDATLDTPIEDQKSDAMKRIQKLLRKKEFEEAVGLLRASRAVWPENDCF\n",
      "GKPDIPVEEEFLALREIFFADLGVQEEAEKQNEDVESFLNNEGGEIEDENDEENEEEDNVVEWEETKFDF\n",
      "KEFIHRFANVKVVKAVTVLLKTFEKNSMELNRYIIKMLHRIAWDCKMPGMIFQASIFRVFQRILDSKHHE\n",
      "HKELQKFASFIIRQFAEVAQKNRKAYMELLFWKNTREATEMVDGYDAANAENKKISRAVWSEAEEDELRT\n",
      "LFMEHQTNKYPQDLIDWLLENIISENRTRRGIIKKLKEMYLIVNSKEVRNEVQKRLPKEWGEEEITQLKE\n",
      "MWENVKNDDDPVDLIYGGLRIKRPKPRIKEKLLELGLAKDPKELRKKRTKKNKSKSDGLPKASWETRSDS\n",
      "EESASNSDDEDSSSDSENTGRHPGSSSNSARPSAAKKKLVKKQNKKRQPTIIYSDAQLSGLLKEVIDNNM\n",
      "SESLEWIKESLEEALEDRDEESADGIPLVPITDYSSAAMESPIFMRFLRASGIEPPSNEQEAYWRIPATM\n",
      "LSSTIRKRCDLIASALVGNFVIQESITSEKIQVNSDSDSDDEETQHDIEKIKKMFKKKSELQNKSKGITS\n",
      "TYLDSSSDEDTGRLLMKDKSLLIDKNEEDKEEDKINNGKEKEKRRGNKSKVHGGKLNSSRIKSILNSSDS\n",
      "EMEVETTKITENNSEVKRIRSENSDTETPVMKKRRVIDSDDDEEEEREGENEKKKERDQENNFDKLLEST\n",
      "NTKQSRRIISDDESDDPQVEEPRQSKSRKIFSDDED\n",
      "\n",
      "\n",
      "Extracted Taxon ID: 69319\n",
      "Order: Hymenoptera\n",
      "Row appended: {'spreadsheetId': '1UZ6ZI3MWDeSO_w1joJPHb8_mgzRuL4OSAgpRmkjFjyo', 'tableRange': 'Dataset!A1:S65', 'updates': {'spreadsheetId': '1UZ6ZI3MWDeSO_w1joJPHb8_mgzRuL4OSAgpRmkjFjyo', 'updatedRange': 'Dataset!A66:Q66', 'updatedRows': 1, 'updatedColumns': 17, 'updatedCells': 17}}\n"
     ]
    }
   ],
   "source": [
    "Entrez.email = \"your_email@example.com\"\n",
    "\n",
    "# Step 1: Fetch the protein accession number using the Gene ID\n",
    "#\n",
    "search_handle = Entrez.esearch(db=\"protein\", term=\"{}[GeneID]\".format(GENE_ID), retmax=10)\n",
    "\n",
    "search_results = Entrez.read(search_handle)\n",
    "search_handle.close()\n",
    "\n",
    "for proteinID in search_results[\"IdList\"]:\n",
    "    # Assuming the first result is the relevant one, but you might need to check this\n",
    "    protein_accession = proteinID\n",
    "    print(f\"Protein Accession: {protein_accession}\")\n",
    "\n",
    "    # Step 2: Fetch the protein sequence using the protein accession number\n",
    "    fetch_handle = Entrez.efetch(db=\"protein\", id=protein_accession, rettype=\"fasta\", retmode=\"text\")\n",
    "    protein_sequence = fetch_handle.read()\n",
    "    fetch_handle.close()\n",
    "\n",
    "\n",
    "    print(protein_sequence)\n",
    "\n",
    "    # Step 3: Fetch the full protein record to extract taxonomic information\n",
    "    fetch_handle = Entrez.efetch(db=\"protein\", id=protein_accession, rettype=\"gb\", retmode=\"xml\")\n",
    "    protein_record = Entrez.read(fetch_handle)\n",
    "    fetch_handle.close()\n",
    "\n",
    "    # Adjust this to correctly navigate to the taxon ID in the XML data structure\n",
    "    for feature in protein_record[0]['GBSeq_feature-table']:\n",
    "        for qualifier in feature['GBFeature_quals']:\n",
    "            if qualifier['GBQualifier_name'] == 'db_xref':\n",
    "                qualifier_value = qualifier['GBQualifier_value']\n",
    "                if qualifier_value.startswith('taxon:'):\n",
    "                    taxon_id = qualifier_value.split(':')[1]\n",
    "                    print(f\"Extracted Taxon ID: {taxon_id}\")\n",
    "\n",
    "    # Step 4: Fetch the taxonomic information using the taxon ID\n",
    "    fetch_handle = Entrez.efetch(db=\"taxonomy\", id=taxon_id, retmode=\"xml\")\n",
    "    taxonomy_record = Entrez.read(fetch_handle)\n",
    "    fetch_handle.close()\n",
    "\n",
    "    # Extract the order and any other relevant taxonomic information\n",
    "    # Adjust the indexing and field names based on the actual returned data structure\n",
    "    order = [item for item in taxonomy_record[0]['LineageEx'] if item['Rank'] == 'order'][0]['ScientificName']\n",
    "    print(f\"Order: {order}\")\n",
    "\n",
    "    common_name = taxonomy_record[0].get('OtherNames', {}).get('GenbankCommonName', taxonomy_record[0].get('CommonName', 'Unknown'))\n",
    "\n",
    "    start_pos = protein_sequence.find('[') + 1  # Add 1 to start after the character\n",
    "    end_pos = protein_sequence.find(']')\n",
    "\n",
    "    species = protein_sequence[start_pos:end_pos]\n",
    "\n",
    "    start_pos = protein_sequence.find('>') + 1  # Add 1 to start after the character\n",
    "    end_pos = protein_sequence.find(' ')\n",
    "\n",
    "    protein_id = protein_sequence[start_pos:end_pos]\n",
    "\n",
    "    protein_sequence = protein_sequence.split('\\n')\n",
    "\n",
    "    # Remove the first line (header)\n",
    "    sequence_lines = protein_sequence[1:]\n",
    "\n",
    "    # Join the remaining lines back into a single string\n",
    "    protein_sequence = ''.join(sequence_lines)\n",
    "\n",
    "    credentials = None\n",
    "    if os.path.exists(\"token.json\"):\n",
    "        credentials = Credentials.from_authorized_user_file(\"token.json\", SCOPES)\n",
    "    if not credentials or not credentials.valid:\n",
    "        if credentials and credentials.expired and credentials._refresh_token:\n",
    "                credentials.refresh(Request())\n",
    "        else:\n",
    "            flow = InstalledAppFlow.from_client_secrets_file(\"credits.json\", SCOPES)\n",
    "            credentials = flow.run_local_server(port=0)\n",
    "        with open(\"token.json\", \"w\") as token:\n",
    "            token.write(credentials.to_json())\n",
    "            \n",
    "    try:\n",
    "        service = build(\"sheets\", \"v4\", credentials=credentials)\n",
    "        sheets = service.spreadsheets()\n",
    "\n",
    "        # Defining a new row to append\n",
    "        new_row = [[common_name,species,Gene, order, GENE_ID,protein_id,\"\",\"\",taxon_id,\"\",\"\",\"\",\"\",\"\",\"\",\"\",protein_sequence]]\n",
    "\n",
    "        # Appending the new row to the sheet\n",
    "        request_body = {\n",
    "            'values': new_row\n",
    "        }\n",
    "        response = sheets.values().append(\n",
    "            spreadsheetId=SPREADSHEET_ID,\n",
    "            range=f\"{RANGE_NAME}!A:Q\",\n",
    "            valueInputOption=\"RAW\",\n",
    "            body=request_body\n",
    "        ).execute()\n",
    "\n",
    "        print(f\"Row appended: {response}\")\n",
    "    except HttpError as error:\n",
    "        print(error)\n"
   ]
  },
  {
   "cell_type": "code",
   "execution_count": 112,
   "metadata": {},
   "outputs": [],
   "source": [
    "## Short Gene IDs "
   ]
  },
  {
   "cell_type": "code",
   "execution_count": 35,
   "metadata": {},
   "outputs": [],
   "source": [
    "SCOPES = [\"https://www.googleapis.com/auth/spreadsheets\"]\n",
    "SPREADSHEET_ID = \"1UZ6ZI3MWDeSO_w1joJPHb8_mgzRuL4OSAgpRmkjFjyo\"\n",
    "RANGE_NAME = \"Dataset\"\n",
    "GENE_ID = \"8914\"\n",
    "iso_list = [\"222136585\",\"1057867276\"]\n",
    "#Gene = \"Timeless\"\n",
    "Gene = \"Timeout\" "
   ]
  },
  {
   "cell_type": "code",
   "execution_count": 36,
   "metadata": {},
   "outputs": [
    {
     "name": "stdout",
     "output_type": "stream",
     "text": [
      "222136585\n",
      "['222136585']\n",
      "Protein Accession: 222136585\n",
      ">NP_003911.2 protein timeless homolog isoform 1 [Homo sapiens]\n",
      "MDLHMMNCELLATCSALGYLEGDTYHKEPDCLESVKDLIRYLRHEDETRDVRQQLGAAQILQSDLLPILT\n",
      "QHHQDKPLFDAVIRLMVNLTQPALLCFGNLPKEPSFRHHFLQVLTYLQAYKEAFASEKAFGVLSETLYEL\n",
      "LQLGWEERQEEDNLLIERILLLVRNILHVPADLDQEKKIDDDASAHDQLLWAIHLSGLDDLLLFLASSSA\n",
      "EEQWSLHVLEIVSLMFRDQNPEQLAGVGQGRLAQERSADFAELEVLRQREMAEKKTRALQRGNRHSRFGG\n",
      "SYIVQGLKSIGERDLIFHKGLHNLRNYSSDLGKQPKKVPKRRQAARELSIQRRSALNVRLFLRDFCSEFL\n",
      "ENCYNRLMGSVKDHLLREKAQQHDETYYMWALAFFMAFNRAASFRPGLVSETLSVRTFHFIEQNLTNYYE\n",
      "MMLTDRKEAASWARRMHLALKAYQELLATVNEMDISPDEAVRESSRIIKNNIFYVMEYRELFLALFRKFD\n",
      "ERCQPRSFLRDLVETTHLFLKMLERFCRSRGNLVVQNKQKKRRKKKKKVLDQAIVSGNVPSSPEEVEAVW\n",
      "PALAEQLQCCAQNSELSMDSVVPFDAASEVPVEEQRAEAMVRIQDCLLAGQAPQALTLLRSAREVWPEGD\n",
      "VFGSQDISPEEEIQLLKQILSAPLPRQQGPEERGAEEEEEEEEEEEEELQVVQVSEKEFNFLDYLKRFAC\n",
      "STVVRAYVLLLRSYQQNSAHTNHCIVKMLHRLAHDLKMEALLFQLSVFCLFNRLLSDPAAGAYKELVTFA\n",
      "KYILGKFFALAAVNQKAFVELLFWKNTAVVREMTEGYGSLDDRSSSRRAPTWSPEEEAHLRELYLANKDV\n",
      "EGQDVVEAILAHLNTVPRTRKQIIHHLVQMGLADSVKDFQRKGTHIVLWTGDQELELQRLFEEFRDSDDV\n",
      "LGHIMKNITAKRSRARIVDKLLALGLVAERRELYKKRQKKLASSILPNGAESLKDFCQEDLEEEENLPEE\n",
      "DSEEEEEGGSEAEQVQGSLVLSNENLGQSLHQEGFSIPLLWLQNCLIRAADDREEDGCSQAVPLVPLTEE\n",
      "NEEAMENEQFQQLLRKLGVRPPASGQETFWRIPAKLSPTQLRRAAASLSQPEEEQKLQPELQPKVPGEQG\n",
      "SDEEHCKEHRAQALRALLLAHKKKAGLASPEEEDAVGKEPLKAAPKKRQLLDSDEEQEEDEGRNRAPELG\n",
      "APGIQKKKRYQIEDDEDD\n",
      "\n",
      "\n",
      "Extracted Taxon ID: 9606\n",
      "Order: Primates\n",
      "Please visit this URL to authorize this application: https://accounts.google.com/o/oauth2/auth?response_type=code&client_id=1093869113489-stqqmurnnnl2d2a8c8fssfsjpgf2dqif.apps.googleusercontent.com&redirect_uri=http%3A%2F%2Flocalhost%3A58754%2F&scope=https%3A%2F%2Fwww.googleapis.com%2Fauth%2Fspreadsheets&state=ZaeNceM21H2e766dRz17vtqCcs6ZuN&access_type=offline\n",
      "Row appended: {'spreadsheetId': '1UZ6ZI3MWDeSO_w1joJPHb8_mgzRuL4OSAgpRmkjFjyo', 'tableRange': 'Dataset!A1:S68', 'updates': {'spreadsheetId': '1UZ6ZI3MWDeSO_w1joJPHb8_mgzRuL4OSAgpRmkjFjyo', 'updatedRange': 'Dataset!A69:Q69', 'updatedRows': 1, 'updatedColumns': 17, 'updatedCells': 17}}\n",
      "1057867276\n",
      "['1057867276']\n",
      "Protein Accession: 1057867276\n",
      ">NP_001317224.1 protein timeless homolog isoform 2 [Homo sapiens]\n",
      "MDLHMMNCELLATCSALGYLEGDTYHKEPDCLESVKDLIRYLRHEDETRDVRQQLGAAQILQSDLLPILT\n",
      "QHHQDKPLFDAVIRLMVNLTQPALLCFGNLPKEPSFRHHFLQVLTYLQAYKEAFASEKAFGVLSETLYEL\n",
      "LQLGWEERQEEDNLLIERILLLVRNILHVPADLDQEKIDDDASAHDQLLWAIHLSGLDDLLLFLASSSAE\n",
      "EQWSLHVLEIVSLMFRDQNPEQLAGVGQGRLAQERSADFAELEVLRQREMAEKKTRALQRGNRHSRFGGS\n",
      "YIVQGLKSIGERDLIFHKGLHNLRNYSSDLGKQPKKVPKRRQAARELSIQRRSALNVRLFLRDFCSEFLE\n",
      "NCYNRLMGSVKDHLLREKAQQHDETYYMWALAFFMAFNRAASFRPGLVSETLSVRTFHFIEQNLTNYYEM\n",
      "MLTDRKEAASWARRMHLALKAYQELLATVNEMDISPDEAVRESSRIIKNNIFYVMEYRELFLALFRKFDE\n",
      "RCQPRSFLRDLVETTHLFLKMLERFCRSRGNLVVQNKQKKRRKKKKKVLDQAIVSGNVPSSPEEVEAVWP\n",
      "ALAEQLQCCAQNSELSMDSVVPFDAASEVPVEEQRAEAMVRIQDCLLAGQAPQALTLLRSAREVWPEGDV\n",
      "FGSQDISPEEEIQLLKQILSAPLPRQQGPEERGAEEEEEEEEEEEEELQVVQVSEKEFNFLDYLKRFACS\n",
      "TVVRAYVLLLRSYQQNSAHTNHCIVKMLHRLAHDLKMEALLFQLSVFCLFNRLLSDPAAGAYKELVTFAK\n",
      "YILGKFFALAAVNQKAFVELLFWKNTAVVREMTEGYGSLDDRSSSRRAPTWSPEEEAHLRELYLANKDVE\n",
      "GQDVVEAILAHLNTVPRTRKQIIHHLVQMGLADSVKDFQRKGTHIVLWTGDQELELQRLFEEFRDSDDVL\n",
      "GHIMKNITAKRSRARIVDKLLALGLVAERRELYKKRQKKLASSILPNGAESLKDFCQEDLEEEENLPEED\n",
      "SEEEEEGGSEAEQVQGSLVLSNENLGQSLHQEGFSIPLLWLQNCLIRAADDREEDGCSQAVPLVPLTEEN\n",
      "EEAMENEQFQQLLRKLGVRPPASGQETFWRIPAKLSPTQLRRAAASLSQPEEEQKLQPELQPKVPGEQGS\n",
      "DEEHCKEHRAQALRALLLAHKKKAGLASPEEEDAVGKEPLKAAPKKRQLLDSDEEQEEDEGRNRAPELGA\n",
      "PGIQKKKRYQIEDDEDD\n",
      "\n",
      "\n",
      "Extracted Taxon ID: 9606\n",
      "Order: Primates\n",
      "Row appended: {'spreadsheetId': '1UZ6ZI3MWDeSO_w1joJPHb8_mgzRuL4OSAgpRmkjFjyo', 'tableRange': 'Dataset!A1:S69', 'updates': {'spreadsheetId': '1UZ6ZI3MWDeSO_w1joJPHb8_mgzRuL4OSAgpRmkjFjyo', 'updatedRange': 'Dataset!A70:Q70', 'updatedRows': 1, 'updatedColumns': 17, 'updatedCells': 17}}\n"
     ]
    }
   ],
   "source": [
    "Entrez.email = \"your_email@example.com\"\n",
    "\n",
    "for isoform in iso_list:\n",
    "    # Step 1: Fetch the protein accession number using the Gene ID\n",
    "    #\n",
    "    print(isoform)\n",
    "    search_handle = Entrez.esearch(db=\"protein\", term=\"{}\".format(isoform), retmax=10)\n",
    "    #search_handle = Entrez.esearch(db=\"protein\", term=\"{}\".format(GENE_ID), retmax=10)\n",
    "    search_results = Entrez.read(search_handle)\n",
    "    search_handle.close()\n",
    "\n",
    "    print(search_results[\"IdList\"])\n",
    "\n",
    "    for proteinID in search_results[\"IdList\"]:\n",
    "        # Assuming the first result is the relevant one, but you might need to check this\n",
    "        protein_accession = proteinID\n",
    "        print(f\"Protein Accession: {protein_accession}\")\n",
    "\n",
    "        # Step 2: Fetch the protein sequence using the protein accession number\n",
    "        fetch_handle = Entrez.efetch(db=\"protein\", id=protein_accession, rettype=\"fasta\", retmode=\"text\")\n",
    "        protein_sequence = fetch_handle.read()\n",
    "        fetch_handle.close()\n",
    "\n",
    "\n",
    "        print(protein_sequence)\n",
    "\n",
    "        # Step 3: Fetch the full protein record to extract taxonomic information\n",
    "        fetch_handle = Entrez.efetch(db=\"protein\", id=protein_accession, rettype=\"gb\", retmode=\"xml\")\n",
    "        protein_record = Entrez.read(fetch_handle)\n",
    "        fetch_handle.close()\n",
    "\n",
    "        # Adjust this to correctly navigate to the taxon ID in the XML data structure\n",
    "        for feature in protein_record[0]['GBSeq_feature-table']:\n",
    "            for qualifier in feature['GBFeature_quals']:\n",
    "                if qualifier['GBQualifier_name'] == 'db_xref':\n",
    "                    qualifier_value = qualifier['GBQualifier_value']\n",
    "                    if qualifier_value.startswith('taxon:'):\n",
    "                        taxon_id = qualifier_value.split(':')[1]\n",
    "                        print(f\"Extracted Taxon ID: {taxon_id}\")\n",
    "\n",
    "        # Step 4: Fetch the taxonomic information using the taxon ID\n",
    "        fetch_handle = Entrez.efetch(db=\"taxonomy\", id=taxon_id, retmode=\"xml\")\n",
    "        taxonomy_record = Entrez.read(fetch_handle)\n",
    "        fetch_handle.close()\n",
    "\n",
    "        # Extract the order and any other relevant taxonomic information\n",
    "        # Adjust the indexing and field names based on the actual returned data structure\n",
    "        order = [item for item in taxonomy_record[0]['LineageEx'] if item['Rank'] == 'order'][0]['ScientificName']\n",
    "        print(f\"Order: {order}\")\n",
    "\n",
    "        common_name = taxonomy_record[0].get('OtherNames', {}).get('GenbankCommonName', taxonomy_record[0].get('CommonName', 'Unknown'))\n",
    "\n",
    "        start_pos = protein_sequence.find('[') + 1  # Add 1 to start after the character\n",
    "        end_pos = protein_sequence.find(']')\n",
    "\n",
    "        species = protein_sequence[start_pos:end_pos]\n",
    "\n",
    "        start_pos = protein_sequence.find('>') + 1  # Add 1 to start after the character\n",
    "        end_pos = protein_sequence.find(' ')\n",
    "\n",
    "        protein_id = protein_sequence[start_pos:end_pos]\n",
    "\n",
    "        protein_sequence = protein_sequence.split('\\n')\n",
    "\n",
    "        # Remove the first line (header)\n",
    "        sequence_lines = protein_sequence[1:]\n",
    "\n",
    "        # Join the remaining lines back into a single string\n",
    "        protein_sequence = ''.join(sequence_lines)\n",
    "\n",
    "        credentials = None\n",
    "        if os.path.exists(\"token.json\"):\n",
    "            credentials = Credentials.from_authorized_user_file(\"token.json\", SCOPES)\n",
    "        if not credentials or not credentials.valid:\n",
    "            if credentials and credentials.expired and credentials._refresh_token:\n",
    "                    credentials.refresh(Request())\n",
    "            else:\n",
    "                flow = InstalledAppFlow.from_client_secrets_file(\"credits.json\", SCOPES)\n",
    "                credentials = flow.run_local_server(port=0)\n",
    "            with open(\"token.json\", \"w\") as token:\n",
    "                token.write(credentials.to_json())\n",
    "                \n",
    "        try:\n",
    "            service = build(\"sheets\", \"v4\", credentials=credentials)\n",
    "            sheets = service.spreadsheets()\n",
    "\n",
    "            # Defining a new row to append\n",
    "            new_row = [[common_name,species,Gene, order, GENE_ID,protein_id,\"\",\"\",taxon_id,\"\",\"\",\"\",\"\",\"\",\"\",\"\",protein_sequence]]\n",
    "\n",
    "            # Appending the new row to the sheet\n",
    "            request_body = {\n",
    "                'values': new_row\n",
    "            }\n",
    "            response = sheets.values().append(\n",
    "                spreadsheetId=SPREADSHEET_ID,\n",
    "                range=f\"{RANGE_NAME}!A:Q\",\n",
    "                valueInputOption=\"RAW\",\n",
    "                body=request_body\n",
    "            ).execute()\n",
    "\n",
    "            print(f\"Row appended: {response}\")\n",
    "        except HttpError as error:\n",
    "            print(error)\n"
   ]
  },
  {
   "cell_type": "code",
   "execution_count": 72,
   "metadata": {},
   "outputs": [
    {
     "name": "stdout",
     "output_type": "stream",
     "text": [
      "Centruroides sculpturatus\n"
     ]
    }
   ],
   "source": [
    "start_pos = protein_sequence.find('[') + 1  # Add 1 to start after the character\n",
    "end_pos = protein_sequence.find(']')\n",
    "\n",
    "species = protein_sequence[start_pos:end_pos]\n",
    "print(species)"
   ]
  },
  {
   "cell_type": "code",
   "execution_count": 73,
   "metadata": {},
   "outputs": [
    {
     "name": "stdout",
     "output_type": "stream",
     "text": [
      "XP_023244207.1\n"
     ]
    }
   ],
   "source": [
    "start_pos = protein_sequence.find('>') + 1  # Add 1 to start after the character\n",
    "end_pos = protein_sequence.find(' ')\n",
    "\n",
    "protein_id = protein_sequence[start_pos:end_pos]\n",
    "print(protein_id)"
   ]
  },
  {
   "cell_type": "code",
   "execution_count": 74,
   "metadata": {},
   "outputs": [
    {
     "name": "stdout",
     "output_type": "stream",
     "text": [
      "MPYKEQPYSETFLKMMEDFNSAISAEIVATCGAIGYNNKGKYVKDPDCSECLKDLIRFLRNDDESHSIRRQLARIGVLKTDLIPLLKYYPKDKTLFDINIRLLINLTNPVMLLYHEELPEEKLTRNYYMEILSYQQECKQSFTDPDVWKELANRLRELLQLDWEHCQEDDRIMIERILILIRNILHIPSDSVSEKRTDDDVSIHDQIVWSFHISGMDDLIIYLAVTDEHKQFCFHVLEIISLLLREQTPQQLASTGQERFTLEKQRDNQELLKLRKQEFLRKQASVKLQTSRHSRFGGTFEVKNMKSVSDNNMLYHHKLQNITSLTYNQKEKKRKPKRNVPMQHVEVKRKSALTVRLCLRDFCKEFLDTAYNLFMKLIKEYLMGNQIQANDETYYFWAIKFFMEFNRLSGSAMSLITETMSIQSFHYLQTQIEYYYEMTINDKKKIVQWSKRMHLALKAYQELLLTLYAMDESSDREIIESAKIIKGNIFYVMEYRELLISLLMNYDEVKFSQNYLKDLIETTHVFMKMLEKFCKRQSHLIVQQKKVKRKKKNKPKKTLNNENKEDYEKLWSDLSENLSTALQEKIEEAESNTSIFDPVSDHTIDQQRINVIIKIKETLQMKNVKEAICLLRAARNIWPENDVFGIPTISPENEFIVLREIYFSDVQNLGDNANQKDVQEFEDNMTEEEQEERIVQSYEKEFDFKGFVSRFANSKIVRAYAMLFKNFNKNSDYTNNCILKMLHRISWDCKMVALLFQASVFQTMQKILDFPEYSSMIKTH\n"
     ]
    }
   ],
   "source": [
    "protein_sequence = protein_sequence.split('\\n')\n",
    "\n",
    "# Remove the first line (header)\n",
    "sequence_lines = protein_sequence[1:]\n",
    "\n",
    "# Join the remaining lines back into a single string\n",
    "protein_sequence = ''.join(sequence_lines)\n",
    "\n",
    "print(protein_sequence)"
   ]
  },
  {
   "cell_type": "code",
   "execution_count": 75,
   "metadata": {},
   "outputs": [
    {
     "name": "stdout",
     "output_type": "stream",
     "text": [
      "['common name', 'Species', 'order']\n",
      "['Bark scorpion', 'Centruroides sculpturatus', ' ']\n",
      "Row appended: {'spreadsheetId': '1UZ6ZI3MWDeSO_w1joJPHb8_mgzRuL4OSAgpRmkjFjyo', 'tableRange': 'Timeout!A1:R2', 'updates': {'spreadsheetId': '1UZ6ZI3MWDeSO_w1joJPHb8_mgzRuL4OSAgpRmkjFjyo', 'updatedRange': 'Timeout!A3:O3', 'updatedRows': 1, 'updatedColumns': 15, 'updatedCells': 15}}\n"
     ]
    }
   ],
   "source": [
    "credentials = None\n",
    "if os.path.exists(\"token.json\"):\n",
    "    credentials = Credentials.from_authorized_user_file(\"token.json\", SCOPES)\n",
    "if not credentials or not credentials.valid:\n",
    "    if credentials and credentials.expired and credentials._refresh_token:\n",
    "            credentials.refresh(Request())\n",
    "    else:\n",
    "        flow = InstalledAppFlow.from_client_secrets_file(\"credits.json\", SCOPES)\n",
    "        credentials = flow.run_local_server(port=0)\n",
    "    with open(\"token.json\", \"w\") as token:\n",
    "        token.write(credentials.to_json())\n",
    "        \n",
    "try:\n",
    "    service = build(\"sheets\", \"v4\", credentials=credentials)\n",
    "    sheets = service.spreadsheets()\n",
    "\n",
    "    # Defining a new row to append\n",
    "    new_row = [[\"\",species, order, GENE_ID,protein_id,\"\",\"\",taxon_id,\"\",\"\",\"\",\"\",\"\",\"\",\"\",protein_sequence]]\n",
    "\n",
    "    # Appending the new row to the sheet\n",
    "    request_body = {\n",
    "        'values': new_row\n",
    "    }\n",
    "    response = sheets.values().append(\n",
    "        spreadsheetId=SPREADSHEET_ID,\n",
    "        range=f\"{RANGE_NAME}!A:Q\",\n",
    "        valueInputOption=\"RAW\",\n",
    "        body=request_body\n",
    "    ).execute()\n",
    "\n",
    "    print(f\"Row appended: {response}\")\n",
    "except HttpError as error:\n",
    "    print(error)\n"
   ]
  },
  {
   "cell_type": "code",
   "execution_count": 37,
   "metadata": {},
   "outputs": [
    {
     "data": {
      "text/plain": [
       "1208"
      ]
     },
     "execution_count": 37,
     "metadata": {},
     "output_type": "execute_result"
    }
   ],
   "source": [
    "len('MDLHMMNCELLATCSALGYLEGDTYHKEPDCLESVKDLIRYLRHEDETRDVRQQLGAAQILQSDLLPILTQHHQDKPLFDAVIRLMVNLTQPALLCFGNLPKEPSFRHHFLQVLTYLQAYKEAFASEKAFGVLSETLYELLQLGWEERQEEDNLLIERILLLVRNILHVPADLDQEKKIDDDASAHDQLLWAIHLSGLDDLLLFLASSSAEEQWSLHVLEIVSLMFRDQNPEQLAGVGQGRLAQERSADFAELEVLRQREMAEKKTRALQRGNRHSRFGGSYIVQGLKSIGERDLIFHKGLHNLRNYSSDLGKQPKKVPKRRQAARELSIQRRSALNVRLFLRDFCSEFLENCYNRLMGSVKDHLLREKAQQHDETYYMWALAFFMAFNRAASFRPGLVSETLSVRTFHFIEQNLTNYYEMMLTDRKEAASWARRMHLALKAYQELLATVNEMDISPDEAVRESSRIIKNNIFYVMEYRELFLALFRKFDERCQPRSFLRDLVETTHLFLKMLERFCRSRGNLVVQNKQKKRRKKKKKVLDQAIVSGNVPSSPEEVEAVWPALAEQLQCCAQNSELSMDSVVPFDAASEVPVEEQRAEAMVRIQDCLLAGQAPQALTLLRSAREVWPEGDVFGSQDISPEEEIQLLKQILSAPLPRQQGPEERGAEEEEEEEEEEEEELQVVQVSEKEFNFLDYLKRFACSTVVRAYVLLLRSYQQNSAHTNHCIVKMLHRLAHDLKMEALLFQLSVFCLFNRLLSDPAAGAYKELVTFAKYILGKFFALAAVNQKAFVELLFWKNTAVVREMTEGYGSLDDRSSSRRAPTWSPEEEAHLRELYLANKDVEGQDVVEAILAHLNTVPRTRKQIIHHLVQMGLADSVKDFQRKGTHIVLWTGDQELELQRLFEEFRDSDDVLGHIMKNITAKRSRARIVDKLLALGLVAERRELYKKRQKKLASSILPNGAESLKDFCQEDLEEEENLPEEDSEEEEEGGSEAEQVQGSLVLSNENLGQSLHQEGFSIPLLWLQNCLIRAADDREEDGCSQAVPLVPLTEENEEAMENEQFQQLLRKLGVRPPASGQETFWRIPAKLSPTQLRRAAASLSQPEEEQKLQPELQPKVPGEQGSDEEHCKEHRAQALRALLLAHKKKAGLASPEEEDAVGKEPLKAAPKKRQLLDSDEEQEEDEGRNRAPELGAPGIQKKKRYQIEDDEDD')"
   ]
  },
  {
   "cell_type": "code",
   "execution_count": 38,
   "metadata": {},
   "outputs": [
    {
     "data": {
      "text/plain": [
       "1207"
      ]
     },
     "execution_count": 38,
     "metadata": {},
     "output_type": "execute_result"
    }
   ],
   "source": [
    "len('MDLHMMNCELLATCSALGYLEGDTYHKEPDCLESVKDLIRYLRHEDETRDVRQQLGAAQILQSDLLPILTQHHQDKPLFDAVIRLMVNLTQPALLCFGNLPKEPSFRHHFLQVLTYLQAYKEAFASEKAFGVLSETLYELLQLGWEERQEEDNLLIERILLLVRNILHVPADLDQEKIDDDASAHDQLLWAIHLSGLDDLLLFLASSSAEEQWSLHVLEIVSLMFRDQNPEQLAGVGQGRLAQERSADFAELEVLRQREMAEKKTRALQRGNRHSRFGGSYIVQGLKSIGERDLIFHKGLHNLRNYSSDLGKQPKKVPKRRQAARELSIQRRSALNVRLFLRDFCSEFLENCYNRLMGSVKDHLLREKAQQHDETYYMWALAFFMAFNRAASFRPGLVSETLSVRTFHFIEQNLTNYYEMMLTDRKEAASWARRMHLALKAYQELLATVNEMDISPDEAVRESSRIIKNNIFYVMEYRELFLALFRKFDERCQPRSFLRDLVETTHLFLKMLERFCRSRGNLVVQNKQKKRRKKKKKVLDQAIVSGNVPSSPEEVEAVWPALAEQLQCCAQNSELSMDSVVPFDAASEVPVEEQRAEAMVRIQDCLLAGQAPQALTLLRSAREVWPEGDVFGSQDISPEEEIQLLKQILSAPLPRQQGPEERGAEEEEEEEEEEEEELQVVQVSEKEFNFLDYLKRFACSTVVRAYVLLLRSYQQNSAHTNHCIVKMLHRLAHDLKMEALLFQLSVFCLFNRLLSDPAAGAYKELVTFAKYILGKFFALAAVNQKAFVELLFWKNTAVVREMTEGYGSLDDRSSSRRAPTWSPEEEAHLRELYLANKDVEGQDVVEAILAHLNTVPRTRKQIIHHLVQMGLADSVKDFQRKGTHIVLWTGDQELELQRLFEEFRDSDDVLGHIMKNITAKRSRARIVDKLLALGLVAERRELYKKRQKKLASSILPNGAESLKDFCQEDLEEEENLPEEDSEEEEEGGSEAEQVQGSLVLSNENLGQSLHQEGFSIPLLWLQNCLIRAADDREEDGCSQAVPLVPLTEENEEAMENEQFQQLLRKLGVRPPASGQETFWRIPAKLSPTQLRRAAASLSQPEEEQKLQPELQPKVPGEQGSDEEHCKEHRAQALRALLLAHKKKAGLASPEEEDAVGKEPLKAAPKKRQLLDSDEEQEEDEGRNRAPELGAPGIQKKKRYQIEDDEDD')"
   ]
  },
  {
   "cell_type": "code",
   "execution_count": null,
   "metadata": {},
   "outputs": [],
   "source": []
  }
 ],
 "metadata": {
  "kernelspec": {
   "display_name": "plotyUMAP",
   "language": "python",
   "name": "python3"
  },
  "language_info": {
   "codemirror_mode": {
    "name": "ipython",
    "version": 3
   },
   "file_extension": ".py",
   "mimetype": "text/x-python",
   "name": "python",
   "nbconvert_exporter": "python",
   "pygments_lexer": "ipython3",
   "version": "3.12.2"
  }
 },
 "nbformat": 4,
 "nbformat_minor": 2
}
