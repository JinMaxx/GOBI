{
 "cells": [
  {
   "cell_type": "code",
   "execution_count": 1,
   "id": "b2d5795f",
   "metadata": {},
   "outputs": [
    {
     "name": "stderr",
     "output_type": "stream",
     "text": [
      "/opt/homebrew/Caskroom/miniconda/base/envs/plotyUMAP/lib/python3.12/site-packages/tqdm/auto.py:21: TqdmWarning: IProgress not found. Please update jupyter and ipywidgets. See https://ipywidgets.readthedocs.io/en/stable/user_install.html\n",
      "  from .autonotebook import tqdm as notebook_tqdm\n"
     ]
    }
   ],
   "source": [
    "from umap import UMAP\n",
    "import plotly.express as px\n",
    "import pandas as pd\n",
    "import h5py\n",
    "import kaleido"
   ]
  },
  {
   "cell_type": "code",
   "execution_count": 2,
   "id": "5726979d",
   "metadata": {},
   "outputs": [
    {
     "name": "stdout",
     "output_type": "stream",
     "text": [
      "[ 0.01946249 -0.01578297  0.01494813 ...  0.00400508  0.03246194\n",
      "  0.00652283]\n",
      "[-0.00860984 -0.02216995  0.02207009 ...  0.00152256  0.05491656\n",
      "  0.02764264]\n",
      "[-0.00607203 -0.03189671  0.01638917 ...  0.00564662  0.04674073\n",
      "  0.02070883]\n",
      "[ 0.01988445 -0.04099694 -0.01255231 ...  0.00575879  0.03103622\n",
      "  0.01572775]\n",
      "[-3.8975612e-03 -2.6136126e-02  2.3674501e-02 ...  2.7329081e-05\n",
      "  1.8414490e-02  5.0153430e-03]\n",
      "[-0.00243    -0.02553847 -0.00477982 ... -0.00429879  0.03813627\n",
      "  0.01442827]\n",
      "[ 0.00360411 -0.02171046  0.01908977 ...  0.00058963  0.04308593\n",
      "  0.01182402]\n",
      "[ 0.02011294 -0.03229322 -0.01789315 ...  0.01741026  0.02141275\n",
      "  0.00929396]\n",
      "[-0.00261895 -0.02158622  0.01830859 ... -0.00395294  0.03061792\n",
      "  0.01450235]\n",
      "[0.02532774 0.00115199 0.00500673 ... 0.00700242 0.01060579 0.01259328]\n",
      "[-0.01484244 -0.04088761  0.01689627 ... -0.00581502  0.04533565\n",
      "  0.01808536]\n",
      "[ 0.01277238  0.03743351  0.05188111 ...  0.00811023 -0.00597477\n",
      "  0.02707446]\n",
      "[ 0.00550779 -0.04224633 -0.02104675 ...  0.0219797   0.0383742\n",
      " -0.00369493]\n",
      "[-0.00619774 -0.00857866  0.01879509 ...  0.04500353  0.03537023\n",
      "  0.01574611]\n",
      "[ 0.00244069 -0.0288798   0.01518885 ...  0.00219615  0.0411014\n",
      "  0.01269306]\n",
      "[-0.0025901  -0.02914495  0.03078873 ...  0.00885666  0.05090123\n",
      "  0.02239641]\n",
      "[ 0.01258643 -0.01553223 -0.01573517 ...  0.01237713  0.02986451\n",
      "  0.00380145]\n",
      "[ 0.00273971 -0.02988466  0.00954568 ...  0.00785601  0.04146691\n",
      "  0.01416688]\n",
      "[ 0.00616763 -0.04689839 -0.05146218 ...  0.00550908  0.05002639\n",
      "  0.02057685]\n",
      "[-0.00716098  0.01362519  0.02873325 ... -0.0132397   0.06139076\n",
      "  0.02564876]\n",
      "[ 0.00569093 -0.02011603  0.01913999 ...  0.00480776  0.04163919\n",
      "  0.01567993]\n",
      "[ 0.02389314 -0.02108051  0.00100111 ...  0.00286527  0.01892817\n",
      "  0.0143364 ]\n",
      "[-0.00198092 -0.01989734  0.01156872 ... -0.00043742  0.0437819\n",
      "  0.01947557]\n",
      "[ 0.02275389 -0.02767381 -0.00246667 ...  0.01107943  0.02061982\n",
      "  0.01555195]\n",
      "[-4.9609682e-03 -2.6011050e-02  2.3575451e-02 ...  7.5957818e-05\n",
      "  3.7488982e-02  1.7751452e-02]\n"
     ]
    },
    {
     "data": {
      "text/html": [
       "<div>\n",
       "<style scoped>\n",
       "    .dataframe tbody tr th:only-of-type {\n",
       "        vertical-align: middle;\n",
       "    }\n",
       "\n",
       "    .dataframe tbody tr th {\n",
       "        vertical-align: top;\n",
       "    }\n",
       "\n",
       "    .dataframe thead th {\n",
       "        text-align: right;\n",
       "    }\n",
       "</style>\n",
       "<table border=\"1\" class=\"dataframe\">\n",
       "  <thead>\n",
       "    <tr style=\"text-align: right;\">\n",
       "      <th></th>\n",
       "      <th>0</th>\n",
       "      <th>1</th>\n",
       "      <th>2</th>\n",
       "      <th>3</th>\n",
       "      <th>4</th>\n",
       "      <th>5</th>\n",
       "      <th>6</th>\n",
       "      <th>7</th>\n",
       "      <th>8</th>\n",
       "      <th>9</th>\n",
       "      <th>...</th>\n",
       "      <th>1015</th>\n",
       "      <th>1016</th>\n",
       "      <th>1017</th>\n",
       "      <th>1018</th>\n",
       "      <th>1019</th>\n",
       "      <th>1020</th>\n",
       "      <th>1021</th>\n",
       "      <th>1022</th>\n",
       "      <th>1023</th>\n",
       "      <th>name</th>\n",
       "    </tr>\n",
       "  </thead>\n",
       "  <tbody>\n",
       "    <tr>\n",
       "      <th>0</th>\n",
       "      <td>0.019462</td>\n",
       "      <td>-0.015783</td>\n",
       "      <td>0.014948</td>\n",
       "      <td>-0.003455</td>\n",
       "      <td>0.037543</td>\n",
       "      <td>0.043632</td>\n",
       "      <td>-0.018803</td>\n",
       "      <td>-0.054570</td>\n",
       "      <td>0.012157</td>\n",
       "      <td>-0.012823</td>\n",
       "      <td>...</td>\n",
       "      <td>-0.015313</td>\n",
       "      <td>0.009878</td>\n",
       "      <td>-0.005597</td>\n",
       "      <td>0.047736</td>\n",
       "      <td>0.012398</td>\n",
       "      <td>-0.031391</td>\n",
       "      <td>0.004005</td>\n",
       "      <td>0.032462</td>\n",
       "      <td>0.006523</td>\n",
       "      <td>Anopheles gambiae|Timeless|XP_061517387_1</td>\n",
       "    </tr>\n",
       "    <tr>\n",
       "      <th>1</th>\n",
       "      <td>-0.008610</td>\n",
       "      <td>-0.022170</td>\n",
       "      <td>0.022070</td>\n",
       "      <td>0.023097</td>\n",
       "      <td>0.033049</td>\n",
       "      <td>0.016864</td>\n",
       "      <td>-0.029285</td>\n",
       "      <td>-0.098811</td>\n",
       "      <td>0.018898</td>\n",
       "      <td>-0.001906</td>\n",
       "      <td>...</td>\n",
       "      <td>-0.021229</td>\n",
       "      <td>0.026254</td>\n",
       "      <td>0.025180</td>\n",
       "      <td>-0.002830</td>\n",
       "      <td>0.009956</td>\n",
       "      <td>-0.023883</td>\n",
       "      <td>0.001523</td>\n",
       "      <td>0.054917</td>\n",
       "      <td>0.027643</td>\n",
       "      <td>Anopheles gambiae|Timeout|XP_061513618_1</td>\n",
       "    </tr>\n",
       "    <tr>\n",
       "      <th>2</th>\n",
       "      <td>-0.006072</td>\n",
       "      <td>-0.031897</td>\n",
       "      <td>0.016389</td>\n",
       "      <td>0.016768</td>\n",
       "      <td>0.021460</td>\n",
       "      <td>0.030698</td>\n",
       "      <td>-0.037818</td>\n",
       "      <td>-0.098392</td>\n",
       "      <td>0.016611</td>\n",
       "      <td>-0.000250</td>\n",
       "      <td>...</td>\n",
       "      <td>-0.014677</td>\n",
       "      <td>0.029919</td>\n",
       "      <td>0.022509</td>\n",
       "      <td>0.032172</td>\n",
       "      <td>0.017781</td>\n",
       "      <td>-0.018412</td>\n",
       "      <td>0.005647</td>\n",
       "      <td>0.046741</td>\n",
       "      <td>0.020709</td>\n",
       "      <td>Apis mellifera|Timeout|XP_006565495_2</td>\n",
       "    </tr>\n",
       "    <tr>\n",
       "      <th>3</th>\n",
       "      <td>0.019884</td>\n",
       "      <td>-0.040997</td>\n",
       "      <td>-0.012552</td>\n",
       "      <td>0.015286</td>\n",
       "      <td>0.025412</td>\n",
       "      <td>0.049742</td>\n",
       "      <td>-0.029702</td>\n",
       "      <td>-0.065657</td>\n",
       "      <td>0.035368</td>\n",
       "      <td>-0.007768</td>\n",
       "      <td>...</td>\n",
       "      <td>-0.002238</td>\n",
       "      <td>0.019777</td>\n",
       "      <td>0.002655</td>\n",
       "      <td>0.046834</td>\n",
       "      <td>0.026249</td>\n",
       "      <td>-0.017366</td>\n",
       "      <td>0.005759</td>\n",
       "      <td>0.031036</td>\n",
       "      <td>0.015728</td>\n",
       "      <td>Bombyx mori|Timeless|XP_037877669_1</td>\n",
       "    </tr>\n",
       "    <tr>\n",
       "      <th>4</th>\n",
       "      <td>-0.003898</td>\n",
       "      <td>-0.026136</td>\n",
       "      <td>0.023675</td>\n",
       "      <td>0.015945</td>\n",
       "      <td>0.024668</td>\n",
       "      <td>0.041806</td>\n",
       "      <td>-0.034914</td>\n",
       "      <td>-0.089566</td>\n",
       "      <td>0.016355</td>\n",
       "      <td>-0.002214</td>\n",
       "      <td>...</td>\n",
       "      <td>0.001667</td>\n",
       "      <td>0.035486</td>\n",
       "      <td>0.040717</td>\n",
       "      <td>0.037069</td>\n",
       "      <td>0.014405</td>\n",
       "      <td>-0.023252</td>\n",
       "      <td>0.000027</td>\n",
       "      <td>0.018414</td>\n",
       "      <td>0.005015</td>\n",
       "      <td>Bombyx mori|Timeout|XP_012545048_1</td>\n",
       "    </tr>\n",
       "  </tbody>\n",
       "</table>\n",
       "<p>5 rows × 1025 columns</p>\n",
       "</div>"
      ],
      "text/plain": [
       "          0         1         2         3         4         5         6  \\\n",
       "0  0.019462 -0.015783  0.014948 -0.003455  0.037543  0.043632 -0.018803   \n",
       "1 -0.008610 -0.022170  0.022070  0.023097  0.033049  0.016864 -0.029285   \n",
       "2 -0.006072 -0.031897  0.016389  0.016768  0.021460  0.030698 -0.037818   \n",
       "3  0.019884 -0.040997 -0.012552  0.015286  0.025412  0.049742 -0.029702   \n",
       "4 -0.003898 -0.026136  0.023675  0.015945  0.024668  0.041806 -0.034914   \n",
       "\n",
       "          7         8         9  ...      1015      1016      1017      1018  \\\n",
       "0 -0.054570  0.012157 -0.012823  ... -0.015313  0.009878 -0.005597  0.047736   \n",
       "1 -0.098811  0.018898 -0.001906  ... -0.021229  0.026254  0.025180 -0.002830   \n",
       "2 -0.098392  0.016611 -0.000250  ... -0.014677  0.029919  0.022509  0.032172   \n",
       "3 -0.065657  0.035368 -0.007768  ... -0.002238  0.019777  0.002655  0.046834   \n",
       "4 -0.089566  0.016355 -0.002214  ...  0.001667  0.035486  0.040717  0.037069   \n",
       "\n",
       "       1019      1020      1021      1022      1023  \\\n",
       "0  0.012398 -0.031391  0.004005  0.032462  0.006523   \n",
       "1  0.009956 -0.023883  0.001523  0.054917  0.027643   \n",
       "2  0.017781 -0.018412  0.005647  0.046741  0.020709   \n",
       "3  0.026249 -0.017366  0.005759  0.031036  0.015728   \n",
       "4  0.014405 -0.023252  0.000027  0.018414  0.005015   \n",
       "\n",
       "                                        name  \n",
       "0  Anopheles gambiae|Timeless|XP_061517387_1  \n",
       "1   Anopheles gambiae|Timeout|XP_061513618_1  \n",
       "2      Apis mellifera|Timeout|XP_006565495_2  \n",
       "3        Bombyx mori|Timeless|XP_037877669_1  \n",
       "4         Bombyx mori|Timeout|XP_012545048_1  \n",
       "\n",
       "[5 rows x 1025 columns]"
      ]
     },
     "execution_count": 2,
     "metadata": {},
     "output_type": "execute_result"
    }
   ],
   "source": [
    "# Path to your h5 file\n",
    "h5_file_path = '/Users/julius/Gobi/Final_results/UMAP/Final_embeddings_withhumans.h5'\n",
    "\n",
    "# Initialize an empty list to store the embeddings and their names\n",
    "embeddings_list = []\n",
    "names_list = []\n",
    "\n",
    "# Open the h5 file and iterate over each dataset\n",
    "with h5py.File(h5_file_path, 'r') as h5_file:\n",
    "    for name in h5_file:\n",
    "        # Read the current embedding\n",
    "        current_embedding = h5_file[name][:]#.reshape(-1) \n",
    "        print(current_embedding)\n",
    "        # Append the embedding and its name to the lists\n",
    "        embeddings_list.append(current_embedding)\n",
    "        names_list.append(name)\n",
    "\n",
    "# Convert the list of embeddings into a DataFrame\n",
    "# If embeddings are 1D, this will create a DataFrame where each row is an embedding\n",
    "embeddings_df = pd.DataFrame(embeddings_list)\n",
    "\n",
    "# Add the names as a new column or set them as the index\n",
    "embeddings_df['name'] = names_list  # As a new column\n",
    "# embeddings_df.index = names_list  # Or set as the index\n",
    "\n",
    "embeddings_df.head()  # Display the first few rows of the DataFrame"
   ]
  },
  {
   "cell_type": "code",
   "execution_count": 3,
   "id": "e2c521a7",
   "metadata": {},
   "outputs": [
    {
     "name": "stderr",
     "output_type": "stream",
     "text": [
      "/opt/homebrew/Caskroom/miniconda/base/envs/plotyUMAP/lib/python3.12/site-packages/umap/umap_.py:1943: UserWarning: n_jobs value -1 overridden to 1 by setting random_state. Use no seed for parallelism.\n",
      "  warn(f\"n_jobs value {self.n_jobs} overridden to 1 by setting random_state. Use no seed for parallelism.\")\n",
      "/opt/homebrew/Caskroom/miniconda/base/envs/plotyUMAP/lib/python3.12/site-packages/umap/umap_.py:2433: UserWarning: n_neighbors is larger than the dataset size; truncating to X.shape[0] - 1\n",
      "  warn(\n",
      "/opt/homebrew/Caskroom/miniconda/base/envs/plotyUMAP/lib/python3.12/site-packages/umap/umap_.py:1943: UserWarning: n_jobs value -1 overridden to 1 by setting random_state. Use no seed for parallelism.\n",
      "  warn(f\"n_jobs value {self.n_jobs} overridden to 1 by setting random_state. Use no seed for parallelism.\")\n",
      "/opt/homebrew/Caskroom/miniconda/base/envs/plotyUMAP/lib/python3.12/site-packages/umap/umap_.py:2433: UserWarning: n_neighbors is larger than the dataset size; truncating to X.shape[0] - 1\n",
      "  warn(\n"
     ]
    },
    {
     "data": {
      "text/html": [
       "<div>\n",
       "<style scoped>\n",
       "    .dataframe tbody tr th:only-of-type {\n",
       "        vertical-align: middle;\n",
       "    }\n",
       "\n",
       "    .dataframe tbody tr th {\n",
       "        vertical-align: top;\n",
       "    }\n",
       "\n",
       "    .dataframe thead th {\n",
       "        text-align: right;\n",
       "    }\n",
       "</style>\n",
       "<table border=\"1\" class=\"dataframe\">\n",
       "  <thead>\n",
       "    <tr style=\"text-align: right;\">\n",
       "      <th></th>\n",
       "      <th>UMAP_1</th>\n",
       "      <th>UMAP_2</th>\n",
       "      <th>UMAP_3</th>\n",
       "      <th>name</th>\n",
       "      <th>label</th>\n",
       "      <th>Gene</th>\n",
       "    </tr>\n",
       "  </thead>\n",
       "  <tbody>\n",
       "    <tr>\n",
       "      <th>0</th>\n",
       "      <td>-7.237299</td>\n",
       "      <td>6.582400</td>\n",
       "      <td>8.434443</td>\n",
       "      <td>Anopheles gambiae|Timeless|XP_061517387_1</td>\n",
       "      <td>Anopheles gambiae</td>\n",
       "      <td>Timeless</td>\n",
       "    </tr>\n",
       "    <tr>\n",
       "      <th>1</th>\n",
       "      <td>-9.970000</td>\n",
       "      <td>9.424144</td>\n",
       "      <td>8.490544</td>\n",
       "      <td>Anopheles gambiae|Timeout|XP_061513618_1</td>\n",
       "      <td>Anopheles gambiae</td>\n",
       "      <td>Timeout</td>\n",
       "    </tr>\n",
       "    <tr>\n",
       "      <th>2</th>\n",
       "      <td>-11.055582</td>\n",
       "      <td>9.989149</td>\n",
       "      <td>8.095532</td>\n",
       "      <td>Apis mellifera|Timeout|XP_006565495_2</td>\n",
       "      <td>Apis mellifera</td>\n",
       "      <td>Timeout</td>\n",
       "    </tr>\n",
       "    <tr>\n",
       "      <th>3</th>\n",
       "      <td>-9.010216</td>\n",
       "      <td>6.447857</td>\n",
       "      <td>7.773969</td>\n",
       "      <td>Bombyx mori|Timeless|XP_037877669_1</td>\n",
       "      <td>Bombyx mori</td>\n",
       "      <td>Timeless</td>\n",
       "    </tr>\n",
       "    <tr>\n",
       "      <th>4</th>\n",
       "      <td>-11.356917</td>\n",
       "      <td>9.937396</td>\n",
       "      <td>6.838923</td>\n",
       "      <td>Bombyx mori|Timeout|XP_012545048_1</td>\n",
       "      <td>Bombyx mori</td>\n",
       "      <td>Timeout</td>\n",
       "    </tr>\n",
       "  </tbody>\n",
       "</table>\n",
       "</div>"
      ],
      "text/plain": [
       "      UMAP_1    UMAP_2    UMAP_3                                       name  \\\n",
       "0  -7.237299  6.582400  8.434443  Anopheles gambiae|Timeless|XP_061517387_1   \n",
       "1  -9.970000  9.424144  8.490544   Anopheles gambiae|Timeout|XP_061513618_1   \n",
       "2 -11.055582  9.989149  8.095532      Apis mellifera|Timeout|XP_006565495_2   \n",
       "3  -9.010216  6.447857  7.773969        Bombyx mori|Timeless|XP_037877669_1   \n",
       "4 -11.356917  9.937396  6.838923         Bombyx mori|Timeout|XP_012545048_1   \n",
       "\n",
       "               label      Gene  \n",
       "0  Anopheles gambiae  Timeless  \n",
       "1  Anopheles gambiae   Timeout  \n",
       "2     Apis mellifera   Timeout  \n",
       "3        Bombyx mori  Timeless  \n",
       "4        Bombyx mori   Timeout  "
      ]
     },
     "execution_count": 3,
     "metadata": {},
     "output_type": "execute_result"
    }
   ],
   "source": [
    "from umap import UMAP\n",
    "\n",
    "# Assuming 'embeddings_df' is your DataFrame from the previous step\n",
    "\n",
    "# Separate the embeddings from the names\n",
    "embeddings = embeddings_df.drop('name', axis=1).values  # Use only the embeddings for UMAP\n",
    "names = embeddings_df['name']  # The names or identifiers of the embeddings\n",
    "\n",
    "# Perform UMAP dimensionality reduction\n",
    "umap_2d = UMAP(n_components=2, n_neighbors=25, metric='euclidean', min_dist=0.5, init='random', random_state=42)  # 2D projection\n",
    "umap_projections_2d = umap_2d.fit_transform(embeddings)\n",
    "\n",
    "# Create a DataFrame for the UMAP projections\n",
    "umap_df_2d = pd.DataFrame(umap_projections_2d, columns=['UMAP_1', 'UMAP_2'])\n",
    "umap_df_2d['name'] = names  # Add the names back to associate with the projections\n",
    "\n",
    "# If you also want a 3D projection\n",
    "umap_3d = UMAP(n_components=3, n_neighbors=25, metric='euclidean', min_dist=0.5, init='random', random_state=42)  # 3D projection\n",
    "umap_projections_3d = umap_3d.fit_transform(embeddings)\n",
    "\n",
    "# Create a DataFrame for the 3D UMAP projections\n",
    "umap_df_3d = pd.DataFrame(umap_projections_3d, columns=['UMAP_1', 'UMAP_2', 'UMAP_3'])\n",
    "umap_df_3d['name'] = names  # Add the names back\n",
    "\n",
    "# Extract labels from the 'name' column\n",
    "umap_df_2d['label'] = umap_df_2d['name'].apply(lambda x: x.split('|')[0] )\n",
    "umap_df_3d['label'] = umap_df_3d['name'].apply(lambda x: x.split('|')[0] )\n",
    "\n",
    "umap_df_2d['Gene'] = umap_df_2d['name'].apply(lambda x: x.split('|')[1] )\n",
    "umap_df_3d['Gene'] = umap_df_3d['name'].apply(lambda x: x.split('|')[1] )\n",
    "# Now you have two DataFrames: `umap_df_2d` and `umap_df_3d` with the 2D and 3D UMAP projections, respectively,\n",
    "# and each row in these DataFrames corresponds to an embedding with its UMAP projections and the original name.\n",
    "\n",
    "# You can display the first few rows of the DataFrame to check\n",
    "umap_df_2d.head()  # For 2D projections\n",
    "umap_df_3d.head()  # For 3D projections"
   ]
  },
  {
   "cell_type": "code",
   "execution_count": 4,
   "id": "f6368ec5",
   "metadata": {},
   "outputs": [
    {
     "data": {
      "application/vnd.plotly.v1+json": {
       "config": {
        "plotlyServerURL": "https://plot.ly"
       },
       "data": [
        {
         "customdata": [
          [
           "Anopheles gambiae|Timeless|XP_061517387_1"
          ]
         ],
         "hovertemplate": "label=Anopheles gambiae<br>Gene=Timeless<br>UMAP_1=%{x}<br>UMAP_2=%{y}<br>name=%{customdata[0]}<extra></extra>",
         "legendgroup": "Anopheles gambiae, Timeless",
         "marker": {
          "color": "#636efa",
          "symbol": "circle"
         },
         "mode": "markers",
         "name": "Anopheles gambiae, Timeless",
         "orientation": "v",
         "showlegend": true,
         "type": "scatter",
         "x": [
          -7.224867820739746
         ],
         "xaxis": "x",
         "y": [
          -1.7095814943313599
         ],
         "yaxis": "y"
        },
        {
         "customdata": [
          [
           "Anopheles gambiae|Timeout|XP_061513618_1"
          ]
         ],
         "hovertemplate": "label=Anopheles gambiae<br>Gene=Timeout<br>UMAP_1=%{x}<br>UMAP_2=%{y}<br>name=%{customdata[0]}<extra></extra>",
         "legendgroup": "Anopheles gambiae, Timeout",
         "marker": {
          "color": "#636efa",
          "symbol": "diamond"
         },
         "mode": "markers",
         "name": "Anopheles gambiae, Timeout",
         "orientation": "v",
         "showlegend": true,
         "type": "scatter",
         "x": [
          -12.543353080749512
         ],
         "xaxis": "x",
         "y": [
          -1.5630662441253662
         ],
         "yaxis": "y"
        },
        {
         "customdata": [
          [
           "Apis mellifera|Timeout|XP_006565495_2"
          ]
         ],
         "hovertemplate": "label=Apis mellifera<br>Gene=Timeout<br>UMAP_1=%{x}<br>UMAP_2=%{y}<br>name=%{customdata[0]}<extra></extra>",
         "legendgroup": "Apis mellifera, Timeout",
         "marker": {
          "color": "#EF553B",
          "symbol": "diamond"
         },
         "mode": "markers",
         "name": "Apis mellifera, Timeout",
         "orientation": "v",
         "showlegend": true,
         "type": "scatter",
         "x": [
          -12.146073341369629
         ],
         "xaxis": "x",
         "y": [
          -2.275888442993164
         ],
         "yaxis": "y"
        },
        {
         "customdata": [
          [
           "Bombyx mori|Timeless|XP_037877669_1"
          ]
         ],
         "hovertemplate": "label=Bombyx mori<br>Gene=Timeless<br>UMAP_1=%{x}<br>UMAP_2=%{y}<br>name=%{customdata[0]}<extra></extra>",
         "legendgroup": "Bombyx mori, Timeless",
         "marker": {
          "color": "#00cc96",
          "symbol": "circle"
         },
         "mode": "markers",
         "name": "Bombyx mori, Timeless",
         "orientation": "v",
         "showlegend": true,
         "type": "scatter",
         "x": [
          -9.208962440490723
         ],
         "xaxis": "x",
         "y": [
          -2.097121238708496
         ],
         "yaxis": "y"
        },
        {
         "customdata": [
          [
           "Bombyx mori|Timeout|XP_012545048_1"
          ]
         ],
         "hovertemplate": "label=Bombyx mori<br>Gene=Timeout<br>UMAP_1=%{x}<br>UMAP_2=%{y}<br>name=%{customdata[0]}<extra></extra>",
         "legendgroup": "Bombyx mori, Timeout",
         "marker": {
          "color": "#00cc96",
          "symbol": "diamond"
         },
         "mode": "markers",
         "name": "Bombyx mori, Timeout",
         "orientation": "v",
         "showlegend": true,
         "type": "scatter",
         "x": [
          -10.162994384765625
         ],
         "xaxis": "x",
         "y": [
          -1.2611058950424194
         ],
         "yaxis": "y"
        },
        {
         "customdata": [
          [
           "Centruroides sculpturatus|Timeout|XP_023244200_1"
          ]
         ],
         "hovertemplate": "label=Centruroides sculpturatus<br>Gene=Timeout<br>UMAP_1=%{x}<br>UMAP_2=%{y}<br>name=%{customdata[0]}<extra></extra>",
         "legendgroup": "Centruroides sculpturatus, Timeout",
         "marker": {
          "color": "#ab63fa",
          "symbol": "diamond"
         },
         "mode": "markers",
         "name": "Centruroides sculpturatus, Timeout",
         "orientation": "v",
         "showlegend": true,
         "type": "scatter",
         "x": [
          -11.025748252868652
         ],
         "xaxis": "x",
         "y": [
          -0.8113973736763
         ],
         "yaxis": "y"
        },
        {
         "customdata": [
          [
           "Cotesia glomerata|Timeout|XP_044599448_1"
          ]
         ],
         "hovertemplate": "label=Cotesia glomerata<br>Gene=Timeout<br>UMAP_1=%{x}<br>UMAP_2=%{y}<br>name=%{customdata[0]}<extra></extra>",
         "legendgroup": "Cotesia glomerata, Timeout",
         "marker": {
          "color": "#FFA15A",
          "symbol": "diamond"
         },
         "mode": "markers",
         "name": "Cotesia glomerata, Timeout",
         "orientation": "v",
         "showlegend": true,
         "type": "scatter",
         "x": [
          -11.695943832397461
         ],
         "xaxis": "x",
         "y": [
          -3.5428431034088135
         ],
         "yaxis": "y"
        },
        {
         "customdata": [
          [
           "Danaus plexippus|Timeless|XP_032510676_1"
          ]
         ],
         "hovertemplate": "label=Danaus plexippus<br>Gene=Timeless<br>UMAP_1=%{x}<br>UMAP_2=%{y}<br>name=%{customdata[0]}<extra></extra>",
         "legendgroup": "Danaus plexippus, Timeless",
         "marker": {
          "color": "#19d3f3",
          "symbol": "circle"
         },
         "mode": "markers",
         "name": "Danaus plexippus, Timeless",
         "orientation": "v",
         "showlegend": true,
         "type": "scatter",
         "x": [
          -8.010997772216797
         ],
         "xaxis": "x",
         "y": [
          -2.8900225162506104
         ],
         "yaxis": "y"
        },
        {
         "customdata": [
          [
           "Danaus plexippus|Timeout|XP_061377646_1"
          ]
         ],
         "hovertemplate": "label=Danaus plexippus<br>Gene=Timeout<br>UMAP_1=%{x}<br>UMAP_2=%{y}<br>name=%{customdata[0]}<extra></extra>",
         "legendgroup": "Danaus plexippus, Timeout",
         "marker": {
          "color": "#19d3f3",
          "symbol": "diamond"
         },
         "mode": "markers",
         "name": "Danaus plexippus, Timeout",
         "orientation": "v",
         "showlegend": true,
         "type": "scatter",
         "x": [
          -10.745501518249512
         ],
         "xaxis": "x",
         "y": [
          -2.1829068660736084
         ],
         "yaxis": "y"
        },
        {
         "customdata": [
          [
           "Drosophila melanogaster|Timeless|NP_001334730_1"
          ]
         ],
         "hovertemplate": "label=Drosophila melanogaster<br>Gene=Timeless<br>UMAP_1=%{x}<br>UMAP_2=%{y}<br>name=%{customdata[0]}<extra></extra>",
         "legendgroup": "Drosophila melanogaster, Timeless",
         "marker": {
          "color": "#FF6692",
          "symbol": "circle"
         },
         "mode": "markers",
         "name": "Drosophila melanogaster, Timeless",
         "orientation": "v",
         "showlegend": true,
         "type": "scatter",
         "x": [
          -7.860835075378418
         ],
         "xaxis": "x",
         "y": [
          -0.9786108732223511
         ],
         "yaxis": "y"
        },
        {
         "customdata": [
          [
           "Drosophila melanogaster|Timeout|NP_524341_3"
          ]
         ],
         "hovertemplate": "label=Drosophila melanogaster<br>Gene=Timeout<br>UMAP_1=%{x}<br>UMAP_2=%{y}<br>name=%{customdata[0]}<extra></extra>",
         "legendgroup": "Drosophila melanogaster, Timeout",
         "marker": {
          "color": "#FF6692",
          "symbol": "diamond"
         },
         "mode": "markers",
         "name": "Drosophila melanogaster, Timeout",
         "orientation": "v",
         "showlegend": true,
         "type": "scatter",
         "x": [
          -11.634825706481934
         ],
         "xaxis": "x",
         "y": [
          -1.5694990158081055
         ],
         "yaxis": "y"
        },
        {
         "customdata": [
          [
           "Homo sapiens|Timeout|NP_003911_2"
          ]
         ],
         "hovertemplate": "label=Homo sapiens<br>Gene=Timeout<br>UMAP_1=%{x}<br>UMAP_2=%{y}<br>name=%{customdata[0]}<extra></extra>",
         "legendgroup": "Homo sapiens, Timeout",
         "marker": {
          "color": "#B6E880",
          "symbol": "diamond"
         },
         "mode": "markers",
         "name": "Homo sapiens, Timeout",
         "orientation": "v",
         "showlegend": true,
         "type": "scatter",
         "x": [
          -10.822983741760254
         ],
         "xaxis": "x",
         "y": [
          -1.546440839767456
         ],
         "yaxis": "y"
        },
        {
         "customdata": [
          [
           "Ixodes scapularis|Timeless|XP_040063874_2"
          ]
         ],
         "hovertemplate": "label=Ixodes scapularis<br>Gene=Timeless<br>UMAP_1=%{x}<br>UMAP_2=%{y}<br>name=%{customdata[0]}<extra></extra>",
         "legendgroup": "Ixodes scapularis, Timeless",
         "marker": {
          "color": "#FF97FF",
          "symbol": "circle"
         },
         "mode": "markers",
         "name": "Ixodes scapularis, Timeless",
         "orientation": "v",
         "showlegend": true,
         "type": "scatter",
         "x": [
          -8.66054916381836
         ],
         "xaxis": "x",
         "y": [
          -2.5420963764190674
         ],
         "yaxis": "y"
        },
        {
         "customdata": [
          [
           "Ixodes scapularis|Timeout|XP_040068998_1"
          ]
         ],
         "hovertemplate": "label=Ixodes scapularis<br>Gene=Timeout<br>UMAP_1=%{x}<br>UMAP_2=%{y}<br>name=%{customdata[0]}<extra></extra>",
         "legendgroup": "Ixodes scapularis, Timeout",
         "marker": {
          "color": "#FF97FF",
          "symbol": "diamond"
         },
         "mode": "markers",
         "name": "Ixodes scapularis, Timeout",
         "orientation": "v",
         "showlegend": true,
         "type": "scatter",
         "x": [
          -12.503949165344238
         ],
         "xaxis": "x",
         "y": [
          -0.6647457480430603
         ],
         "yaxis": "y"
        },
        {
         "customdata": [
          [
           "Microplitis demolitor|Timeout|XP_008552252_1"
          ]
         ],
         "hovertemplate": "label=Microplitis demolitor<br>Gene=Timeout<br>UMAP_1=%{x}<br>UMAP_2=%{y}<br>name=%{customdata[0]}<extra></extra>",
         "legendgroup": "Microplitis demolitor, Timeout",
         "marker": {
          "color": "#FECB52",
          "symbol": "diamond"
         },
         "mode": "markers",
         "name": "Microplitis demolitor, Timeout",
         "orientation": "v",
         "showlegend": true,
         "type": "scatter",
         "x": [
          -12.776004791259766
         ],
         "xaxis": "x",
         "y": [
          -3.3477213382720947
         ],
         "yaxis": "y"
        },
        {
         "customdata": [
          [
           "Nasonia vitripennis|Timeout|XP_032453711_1"
          ]
         ],
         "hovertemplate": "label=Nasonia vitripennis<br>Gene=Timeout<br>UMAP_1=%{x}<br>UMAP_2=%{y}<br>name=%{customdata[0]}<extra></extra>",
         "legendgroup": "Nasonia vitripennis, Timeout",
         "marker": {
          "color": "#636efa",
          "symbol": "diamond"
         },
         "mode": "markers",
         "name": "Nasonia vitripennis, Timeout",
         "orientation": "v",
         "showlegend": true,
         "type": "scatter",
         "x": [
          -13.32429027557373
         ],
         "xaxis": "x",
         "y": [
          -1.7478201389312744
         ],
         "yaxis": "y"
        },
        {
         "customdata": [
          [
           "Nicrophorus vespilloides|Timeless|XP_017769876_1"
          ]
         ],
         "hovertemplate": "label=Nicrophorus vespilloides<br>Gene=Timeless<br>UMAP_1=%{x}<br>UMAP_2=%{y}<br>name=%{customdata[0]}<extra></extra>",
         "legendgroup": "Nicrophorus vespilloides, Timeless",
         "marker": {
          "color": "#EF553B",
          "symbol": "circle"
         },
         "mode": "markers",
         "name": "Nicrophorus vespilloides, Timeless",
         "orientation": "v",
         "showlegend": true,
         "type": "scatter",
         "x": [
          -7.63342809677124
         ],
         "xaxis": "x",
         "y": [
          -2.1620495319366455
         ],
         "yaxis": "y"
        },
        {
         "customdata": [
          [
           "Nicrophorus vespilloides|Timeout|XP_017783660_1"
          ]
         ],
         "hovertemplate": "label=Nicrophorus vespilloides<br>Gene=Timeout<br>UMAP_1=%{x}<br>UMAP_2=%{y}<br>name=%{customdata[0]}<extra></extra>",
         "legendgroup": "Nicrophorus vespilloides, Timeout",
         "marker": {
          "color": "#EF553B",
          "symbol": "diamond"
         },
         "mode": "markers",
         "name": "Nicrophorus vespilloides, Timeout",
         "orientation": "v",
         "showlegend": true,
         "type": "scatter",
         "x": [
          -12.128875732421875
         ],
         "xaxis": "x",
         "y": [
          -3.0012669563293457
         ],
         "yaxis": "y"
        },
        {
         "customdata": [
          [
           "Parasteatoda tepidariorum|Timeless|XP_042910663_1"
          ]
         ],
         "hovertemplate": "label=Parasteatoda tepidariorum<br>Gene=Timeless<br>UMAP_1=%{x}<br>UMAP_2=%{y}<br>name=%{customdata[0]}<extra></extra>",
         "legendgroup": "Parasteatoda tepidariorum, Timeless",
         "marker": {
          "color": "#00cc96",
          "symbol": "circle"
         },
         "mode": "markers",
         "name": "Parasteatoda tepidariorum, Timeless",
         "orientation": "v",
         "showlegend": true,
         "type": "scatter",
         "x": [
          -9.121878623962402
         ],
         "xaxis": "x",
         "y": [
          -3.156371831893921
         ],
         "yaxis": "y"
        },
        {
         "customdata": [
          [
           "Parasteatoda tepidariorum|Timeout|XP_021003037_2"
          ]
         ],
         "hovertemplate": "label=Parasteatoda tepidariorum<br>Gene=Timeout<br>UMAP_1=%{x}<br>UMAP_2=%{y}<br>name=%{customdata[0]}<extra></extra>",
         "legendgroup": "Parasteatoda tepidariorum, Timeout",
         "marker": {
          "color": "#00cc96",
          "symbol": "diamond"
         },
         "mode": "markers",
         "name": "Parasteatoda tepidariorum, Timeout",
         "orientation": "v",
         "showlegend": true,
         "type": "scatter",
         "x": [
          -13.147723197937012
         ],
         "xaxis": "x",
         "y": [
          -2.491170644760132
         ],
         "yaxis": "y"
        },
        {
         "customdata": [
          [
           "Solenopsis invicta|Timeout|XP_011173664_2"
          ]
         ],
         "hovertemplate": "label=Solenopsis invicta<br>Gene=Timeout<br>UMAP_1=%{x}<br>UMAP_2=%{y}<br>name=%{customdata[0]}<extra></extra>",
         "legendgroup": "Solenopsis invicta, Timeout",
         "marker": {
          "color": "#ab63fa",
          "symbol": "diamond"
         },
         "mode": "markers",
         "name": "Solenopsis invicta, Timeout",
         "orientation": "v",
         "showlegend": true,
         "type": "scatter",
         "x": [
          -11.58481216430664
         ],
         "xaxis": "x",
         "y": [
          -2.407374620437622
         ],
         "yaxis": "y"
        },
        {
         "customdata": [
          [
           "Tribolium castaneum|Timeless|XP_008192983_1"
          ]
         ],
         "hovertemplate": "label=Tribolium castaneum<br>Gene=Timeless<br>UMAP_1=%{x}<br>UMAP_2=%{y}<br>name=%{customdata[0]}<extra></extra>",
         "legendgroup": "Tribolium castaneum, Timeless",
         "marker": {
          "color": "#FFA15A",
          "symbol": "circle"
         },
         "mode": "markers",
         "name": "Tribolium castaneum, Timeless",
         "orientation": "v",
         "showlegend": true,
         "type": "scatter",
         "x": [
          -8.707437515258789
         ],
         "xaxis": "x",
         "y": [
          -1.30038583278656
         ],
         "yaxis": "y"
        },
        {
         "customdata": [
          [
           "Tribolium castaneum|Timeout|XP_008201051_1"
          ]
         ],
         "hovertemplate": "label=Tribolium castaneum<br>Gene=Timeout<br>UMAP_1=%{x}<br>UMAP_2=%{y}<br>name=%{customdata[0]}<extra></extra>",
         "legendgroup": "Tribolium castaneum, Timeout",
         "marker": {
          "color": "#FFA15A",
          "symbol": "diamond"
         },
         "mode": "markers",
         "name": "Tribolium castaneum, Timeout",
         "orientation": "v",
         "showlegend": true,
         "type": "scatter",
         "x": [
          -11.037710189819336
         ],
         "xaxis": "x",
         "y": [
          -3.1888267993927
         ],
         "yaxis": "y"
        },
        {
         "customdata": [
          [
           "Trichoplusia ni|Timeless|XP_026738429_1"
          ]
         ],
         "hovertemplate": "label=Trichoplusia ni<br>Gene=Timeless<br>UMAP_1=%{x}<br>UMAP_2=%{y}<br>name=%{customdata[0]}<extra></extra>",
         "legendgroup": "Trichoplusia ni, Timeless",
         "marker": {
          "color": "#19d3f3",
          "symbol": "circle"
         },
         "mode": "markers",
         "name": "Trichoplusia ni, Timeless",
         "orientation": "v",
         "showlegend": true,
         "type": "scatter",
         "x": [
          -8.110336303710938
         ],
         "xaxis": "x",
         "y": [
          -1.7666971683502197
         ],
         "yaxis": "y"
        },
        {
         "customdata": [
          [
           "Trichoplusia ni|Timeout|XP_026737157_1"
          ]
         ],
         "hovertemplate": "label=Trichoplusia ni<br>Gene=Timeout<br>UMAP_1=%{x}<br>UMAP_2=%{y}<br>name=%{customdata[0]}<extra></extra>",
         "legendgroup": "Trichoplusia ni, Timeout",
         "marker": {
          "color": "#19d3f3",
          "symbol": "diamond"
         },
         "mode": "markers",
         "name": "Trichoplusia ni, Timeout",
         "orientation": "v",
         "showlegend": true,
         "type": "scatter",
         "x": [
          -10.473282814025879
         ],
         "xaxis": "x",
         "y": [
          -2.883202075958252
         ],
         "yaxis": "y"
        }
       ],
       "layout": {
        "legend": {
         "title": {
          "text": "label, Gene"
         },
         "tracegroupgap": 0
        },
        "template": {
         "data": {
          "bar": [
           {
            "error_x": {
             "color": "#2a3f5f"
            },
            "error_y": {
             "color": "#2a3f5f"
            },
            "marker": {
             "line": {
              "color": "#E5ECF6",
              "width": 0.5
             },
             "pattern": {
              "fillmode": "overlay",
              "size": 10,
              "solidity": 0.2
             }
            },
            "type": "bar"
           }
          ],
          "barpolar": [
           {
            "marker": {
             "line": {
              "color": "#E5ECF6",
              "width": 0.5
             },
             "pattern": {
              "fillmode": "overlay",
              "size": 10,
              "solidity": 0.2
             }
            },
            "type": "barpolar"
           }
          ],
          "carpet": [
           {
            "aaxis": {
             "endlinecolor": "#2a3f5f",
             "gridcolor": "white",
             "linecolor": "white",
             "minorgridcolor": "white",
             "startlinecolor": "#2a3f5f"
            },
            "baxis": {
             "endlinecolor": "#2a3f5f",
             "gridcolor": "white",
             "linecolor": "white",
             "minorgridcolor": "white",
             "startlinecolor": "#2a3f5f"
            },
            "type": "carpet"
           }
          ],
          "choropleth": [
           {
            "colorbar": {
             "outlinewidth": 0,
             "ticks": ""
            },
            "type": "choropleth"
           }
          ],
          "contour": [
           {
            "colorbar": {
             "outlinewidth": 0,
             "ticks": ""
            },
            "colorscale": [
             [
              0,
              "#0d0887"
             ],
             [
              0.1111111111111111,
              "#46039f"
             ],
             [
              0.2222222222222222,
              "#7201a8"
             ],
             [
              0.3333333333333333,
              "#9c179e"
             ],
             [
              0.4444444444444444,
              "#bd3786"
             ],
             [
              0.5555555555555556,
              "#d8576b"
             ],
             [
              0.6666666666666666,
              "#ed7953"
             ],
             [
              0.7777777777777778,
              "#fb9f3a"
             ],
             [
              0.8888888888888888,
              "#fdca26"
             ],
             [
              1,
              "#f0f921"
             ]
            ],
            "type": "contour"
           }
          ],
          "contourcarpet": [
           {
            "colorbar": {
             "outlinewidth": 0,
             "ticks": ""
            },
            "type": "contourcarpet"
           }
          ],
          "heatmap": [
           {
            "colorbar": {
             "outlinewidth": 0,
             "ticks": ""
            },
            "colorscale": [
             [
              0,
              "#0d0887"
             ],
             [
              0.1111111111111111,
              "#46039f"
             ],
             [
              0.2222222222222222,
              "#7201a8"
             ],
             [
              0.3333333333333333,
              "#9c179e"
             ],
             [
              0.4444444444444444,
              "#bd3786"
             ],
             [
              0.5555555555555556,
              "#d8576b"
             ],
             [
              0.6666666666666666,
              "#ed7953"
             ],
             [
              0.7777777777777778,
              "#fb9f3a"
             ],
             [
              0.8888888888888888,
              "#fdca26"
             ],
             [
              1,
              "#f0f921"
             ]
            ],
            "type": "heatmap"
           }
          ],
          "heatmapgl": [
           {
            "colorbar": {
             "outlinewidth": 0,
             "ticks": ""
            },
            "colorscale": [
             [
              0,
              "#0d0887"
             ],
             [
              0.1111111111111111,
              "#46039f"
             ],
             [
              0.2222222222222222,
              "#7201a8"
             ],
             [
              0.3333333333333333,
              "#9c179e"
             ],
             [
              0.4444444444444444,
              "#bd3786"
             ],
             [
              0.5555555555555556,
              "#d8576b"
             ],
             [
              0.6666666666666666,
              "#ed7953"
             ],
             [
              0.7777777777777778,
              "#fb9f3a"
             ],
             [
              0.8888888888888888,
              "#fdca26"
             ],
             [
              1,
              "#f0f921"
             ]
            ],
            "type": "heatmapgl"
           }
          ],
          "histogram": [
           {
            "marker": {
             "pattern": {
              "fillmode": "overlay",
              "size": 10,
              "solidity": 0.2
             }
            },
            "type": "histogram"
           }
          ],
          "histogram2d": [
           {
            "colorbar": {
             "outlinewidth": 0,
             "ticks": ""
            },
            "colorscale": [
             [
              0,
              "#0d0887"
             ],
             [
              0.1111111111111111,
              "#46039f"
             ],
             [
              0.2222222222222222,
              "#7201a8"
             ],
             [
              0.3333333333333333,
              "#9c179e"
             ],
             [
              0.4444444444444444,
              "#bd3786"
             ],
             [
              0.5555555555555556,
              "#d8576b"
             ],
             [
              0.6666666666666666,
              "#ed7953"
             ],
             [
              0.7777777777777778,
              "#fb9f3a"
             ],
             [
              0.8888888888888888,
              "#fdca26"
             ],
             [
              1,
              "#f0f921"
             ]
            ],
            "type": "histogram2d"
           }
          ],
          "histogram2dcontour": [
           {
            "colorbar": {
             "outlinewidth": 0,
             "ticks": ""
            },
            "colorscale": [
             [
              0,
              "#0d0887"
             ],
             [
              0.1111111111111111,
              "#46039f"
             ],
             [
              0.2222222222222222,
              "#7201a8"
             ],
             [
              0.3333333333333333,
              "#9c179e"
             ],
             [
              0.4444444444444444,
              "#bd3786"
             ],
             [
              0.5555555555555556,
              "#d8576b"
             ],
             [
              0.6666666666666666,
              "#ed7953"
             ],
             [
              0.7777777777777778,
              "#fb9f3a"
             ],
             [
              0.8888888888888888,
              "#fdca26"
             ],
             [
              1,
              "#f0f921"
             ]
            ],
            "type": "histogram2dcontour"
           }
          ],
          "mesh3d": [
           {
            "colorbar": {
             "outlinewidth": 0,
             "ticks": ""
            },
            "type": "mesh3d"
           }
          ],
          "parcoords": [
           {
            "line": {
             "colorbar": {
              "outlinewidth": 0,
              "ticks": ""
             }
            },
            "type": "parcoords"
           }
          ],
          "pie": [
           {
            "automargin": true,
            "type": "pie"
           }
          ],
          "scatter": [
           {
            "fillpattern": {
             "fillmode": "overlay",
             "size": 10,
             "solidity": 0.2
            },
            "type": "scatter"
           }
          ],
          "scatter3d": [
           {
            "line": {
             "colorbar": {
              "outlinewidth": 0,
              "ticks": ""
             }
            },
            "marker": {
             "colorbar": {
              "outlinewidth": 0,
              "ticks": ""
             }
            },
            "type": "scatter3d"
           }
          ],
          "scattercarpet": [
           {
            "marker": {
             "colorbar": {
              "outlinewidth": 0,
              "ticks": ""
             }
            },
            "type": "scattercarpet"
           }
          ],
          "scattergeo": [
           {
            "marker": {
             "colorbar": {
              "outlinewidth": 0,
              "ticks": ""
             }
            },
            "type": "scattergeo"
           }
          ],
          "scattergl": [
           {
            "marker": {
             "colorbar": {
              "outlinewidth": 0,
              "ticks": ""
             }
            },
            "type": "scattergl"
           }
          ],
          "scattermapbox": [
           {
            "marker": {
             "colorbar": {
              "outlinewidth": 0,
              "ticks": ""
             }
            },
            "type": "scattermapbox"
           }
          ],
          "scatterpolar": [
           {
            "marker": {
             "colorbar": {
              "outlinewidth": 0,
              "ticks": ""
             }
            },
            "type": "scatterpolar"
           }
          ],
          "scatterpolargl": [
           {
            "marker": {
             "colorbar": {
              "outlinewidth": 0,
              "ticks": ""
             }
            },
            "type": "scatterpolargl"
           }
          ],
          "scatterternary": [
           {
            "marker": {
             "colorbar": {
              "outlinewidth": 0,
              "ticks": ""
             }
            },
            "type": "scatterternary"
           }
          ],
          "surface": [
           {
            "colorbar": {
             "outlinewidth": 0,
             "ticks": ""
            },
            "colorscale": [
             [
              0,
              "#0d0887"
             ],
             [
              0.1111111111111111,
              "#46039f"
             ],
             [
              0.2222222222222222,
              "#7201a8"
             ],
             [
              0.3333333333333333,
              "#9c179e"
             ],
             [
              0.4444444444444444,
              "#bd3786"
             ],
             [
              0.5555555555555556,
              "#d8576b"
             ],
             [
              0.6666666666666666,
              "#ed7953"
             ],
             [
              0.7777777777777778,
              "#fb9f3a"
             ],
             [
              0.8888888888888888,
              "#fdca26"
             ],
             [
              1,
              "#f0f921"
             ]
            ],
            "type": "surface"
           }
          ],
          "table": [
           {
            "cells": {
             "fill": {
              "color": "#EBF0F8"
             },
             "line": {
              "color": "white"
             }
            },
            "header": {
             "fill": {
              "color": "#C8D4E3"
             },
             "line": {
              "color": "white"
             }
            },
            "type": "table"
           }
          ]
         },
         "layout": {
          "annotationdefaults": {
           "arrowcolor": "#2a3f5f",
           "arrowhead": 0,
           "arrowwidth": 1
          },
          "autotypenumbers": "strict",
          "coloraxis": {
           "colorbar": {
            "outlinewidth": 0,
            "ticks": ""
           }
          },
          "colorscale": {
           "diverging": [
            [
             0,
             "#8e0152"
            ],
            [
             0.1,
             "#c51b7d"
            ],
            [
             0.2,
             "#de77ae"
            ],
            [
             0.3,
             "#f1b6da"
            ],
            [
             0.4,
             "#fde0ef"
            ],
            [
             0.5,
             "#f7f7f7"
            ],
            [
             0.6,
             "#e6f5d0"
            ],
            [
             0.7,
             "#b8e186"
            ],
            [
             0.8,
             "#7fbc41"
            ],
            [
             0.9,
             "#4d9221"
            ],
            [
             1,
             "#276419"
            ]
           ],
           "sequential": [
            [
             0,
             "#0d0887"
            ],
            [
             0.1111111111111111,
             "#46039f"
            ],
            [
             0.2222222222222222,
             "#7201a8"
            ],
            [
             0.3333333333333333,
             "#9c179e"
            ],
            [
             0.4444444444444444,
             "#bd3786"
            ],
            [
             0.5555555555555556,
             "#d8576b"
            ],
            [
             0.6666666666666666,
             "#ed7953"
            ],
            [
             0.7777777777777778,
             "#fb9f3a"
            ],
            [
             0.8888888888888888,
             "#fdca26"
            ],
            [
             1,
             "#f0f921"
            ]
           ],
           "sequentialminus": [
            [
             0,
             "#0d0887"
            ],
            [
             0.1111111111111111,
             "#46039f"
            ],
            [
             0.2222222222222222,
             "#7201a8"
            ],
            [
             0.3333333333333333,
             "#9c179e"
            ],
            [
             0.4444444444444444,
             "#bd3786"
            ],
            [
             0.5555555555555556,
             "#d8576b"
            ],
            [
             0.6666666666666666,
             "#ed7953"
            ],
            [
             0.7777777777777778,
             "#fb9f3a"
            ],
            [
             0.8888888888888888,
             "#fdca26"
            ],
            [
             1,
             "#f0f921"
            ]
           ]
          },
          "colorway": [
           "#636efa",
           "#EF553B",
           "#00cc96",
           "#ab63fa",
           "#FFA15A",
           "#19d3f3",
           "#FF6692",
           "#B6E880",
           "#FF97FF",
           "#FECB52"
          ],
          "font": {
           "color": "#2a3f5f"
          },
          "geo": {
           "bgcolor": "white",
           "lakecolor": "white",
           "landcolor": "#E5ECF6",
           "showlakes": true,
           "showland": true,
           "subunitcolor": "white"
          },
          "hoverlabel": {
           "align": "left"
          },
          "hovermode": "closest",
          "mapbox": {
           "style": "light"
          },
          "paper_bgcolor": "white",
          "plot_bgcolor": "#E5ECF6",
          "polar": {
           "angularaxis": {
            "gridcolor": "white",
            "linecolor": "white",
            "ticks": ""
           },
           "bgcolor": "#E5ECF6",
           "radialaxis": {
            "gridcolor": "white",
            "linecolor": "white",
            "ticks": ""
           }
          },
          "scene": {
           "xaxis": {
            "backgroundcolor": "#E5ECF6",
            "gridcolor": "white",
            "gridwidth": 2,
            "linecolor": "white",
            "showbackground": true,
            "ticks": "",
            "zerolinecolor": "white"
           },
           "yaxis": {
            "backgroundcolor": "#E5ECF6",
            "gridcolor": "white",
            "gridwidth": 2,
            "linecolor": "white",
            "showbackground": true,
            "ticks": "",
            "zerolinecolor": "white"
           },
           "zaxis": {
            "backgroundcolor": "#E5ECF6",
            "gridcolor": "white",
            "gridwidth": 2,
            "linecolor": "white",
            "showbackground": true,
            "ticks": "",
            "zerolinecolor": "white"
           }
          },
          "shapedefaults": {
           "line": {
            "color": "#2a3f5f"
           }
          },
          "ternary": {
           "aaxis": {
            "gridcolor": "white",
            "linecolor": "white",
            "ticks": ""
           },
           "baxis": {
            "gridcolor": "white",
            "linecolor": "white",
            "ticks": ""
           },
           "bgcolor": "#E5ECF6",
           "caxis": {
            "gridcolor": "white",
            "linecolor": "white",
            "ticks": ""
           }
          },
          "title": {
           "x": 0.05
          },
          "xaxis": {
           "automargin": true,
           "gridcolor": "white",
           "linecolor": "white",
           "ticks": "",
           "title": {
            "standoff": 15
           },
           "zerolinecolor": "white",
           "zerolinewidth": 2
          },
          "yaxis": {
           "automargin": true,
           "gridcolor": "white",
           "linecolor": "white",
           "ticks": "",
           "title": {
            "standoff": 15
           },
           "zerolinecolor": "white",
           "zerolinewidth": 2
          }
         }
        },
        "title": {
         "text": "2D UMAP Projections of Embeddings with Labels"
        },
        "xaxis": {
         "anchor": "y",
         "domain": [
          0,
          1
         ],
         "title": {
          "text": "UMAP_1"
         }
        },
        "yaxis": {
         "anchor": "x",
         "domain": [
          0,
          1
         ],
         "title": {
          "text": "UMAP_2"
         }
        }
       }
      }
     },
     "metadata": {},
     "output_type": "display_data"
    }
   ],
   "source": [
    "import plotly.express as px\n",
    "\n",
    "# Plotting 2D UMAP projections with color coding by labels\n",
    "fig_2d = px.scatter(\n",
    "    umap_df_2d,\n",
    "    x='UMAP_1',\n",
    "    y='UMAP_2',\n",
    "    color='label',  # Color code by the extracted label\n",
    "    symbol='Gene',\n",
    "    hover_data=['name'],  # Show original name on hover\n",
    "    title='2D UMAP Projections of Embeddings with Labels'\n",
    ")\n",
    "\n",
    "fig_2d.show()\n"
   ]
  },
  {
   "cell_type": "code",
   "execution_count": 6,
   "id": "fb184c5f",
   "metadata": {},
   "outputs": [],
   "source": [
    "import plotly.graph_objs as go\n",
    "\n",
    "label_color_dict = {\n",
    "    'Apis mellifera': '#1f77b4',  # Blau\n",
    "    'Bombyx mori': '#ff7f0e',     # Orange\n",
    "    'Centruroides sculpturatus': '#2ca02c',  # Grün\n",
    "    'Danaus plexippus': '#d62728',  # Rot\n",
    "    'Drosophila melanogaster': '#9467bd',  # Lila\n",
    "    'Ixodes scapularis': '#8c564b',  # Braun\n",
    "    'Nicrophorus vespilloides': '#e377c2',  # Pink\n",
    "    'Parasteatoda tepidariorum': '#7f7f7f',  # Grau\n",
    "    'Solenopsis invicta': '#bcbd22',  # Olive\n",
    "    'Trichoplusia ni': '#17becf',   # Teal\n",
    "    'Nicrophorus vespilloides Both': '#d62727',  # Rot\n",
    "    'Centruroides sculpturatus Both': '#d62726',  # Rot\n",
    "    'Anopheles gambiae': '#f77189',  # Hellrot\n",
    "    'Cotesia glomerata': '#f7754f',  # Helles Orange\n",
    "    'Microplitis demolitor': '#dc8932',  # Goldorange\n",
    "    'Nasonia vitripennis': '#c39532',  # Sandgelb\n",
    "    'Tribolium castaneum': '#ae9d31',  # Mattgold\n",
    "    'Homo sapiens': '#87CEEB'  # Himmelblau\n",
    "}\n",
    "\n",
    "gene_marker_dict = {\n",
    "    'Timeout': 'circle',\n",
    "    'Timeless': 'diamond'\n",
    "}\n",
    "\n",
    "# Extract the unique labels and genes\n",
    "unique_labels = umap_df_3d['label'].unique()\n",
    "unique_genes = umap_df_3d['Gene'].unique()\n",
    "\n",
    "# Initialize an empty list to store all the plotly Scatter3D objects\n",
    "traces = []\n",
    "\n",
    "# Iterate over the labels and genes to create a Scatter3D object for each combination\n",
    "for label in unique_labels:\n",
    "    for gene in unique_genes:\n",
    "        subset_df = umap_df_3d[(umap_df_3d['label'] == label) & (umap_df_3d['Gene'] == gene)]\n",
    "        if not subset_df.empty:  # Check if the subset is not empty\n",
    "            trace = go.Scatter3d(\n",
    "                x=subset_df['UMAP_1'],\n",
    "                y=subset_df['UMAP_2'],\n",
    "                z=subset_df['UMAP_3'],\n",
    "                mode='markers',\n",
    "                marker=dict(\n",
    "                    color=label_color_dict[label],  # Set the color for the current label\n",
    "                    symbol=gene_marker_dict[gene],  # Set the symbol for the current gene\n",
    "                    size=15,  # Marker size, adjust as needed\n",
    "                    line=dict(\n",
    "                        color='black',  # Border color\n",
    "                        width=2        # Border width\n",
    "                    )\n",
    "                ),\n",
    "                name=f\"{label} | {gene}\"  # Combine label and gene for legend\n",
    "            )\n",
    "            traces.append(trace)\n",
    "\n",
    "# Define the layout for your plot\n",
    "layout = go.Layout(\n",
    "    title='3D UMAP Projections of Embeddings with Custom Labels and Genes',\n",
    "    legend=dict(\n",
    "        title='Legend',\n",
    "        itemsizing='constant'\n",
    "    ),\n",
    "    scene=dict(  # Adjusting 3D plot scene\n",
    "        xaxis=dict(\n",
    "            showticklabels=False,  # Remove tick labels\n",
    "            title_text='',  # Remove axis title\n",
    "        ),\n",
    "        yaxis=dict(\n",
    "            showticklabels=False,\n",
    "            title_text='',\n",
    "        ),\n",
    "        zaxis=dict(\n",
    "            showticklabels=False,\n",
    "            title_text='',\n",
    "        )\n",
    "    ),\n",
    "    margin=dict(l=0, r=0, b=0, t=0)\n",
    ")\n",
    "\n",
    "# Create the figure with all the traces and layout\n",
    "fig = go.Figure(data=traces, layout=layout)\n",
    "\n",
    "fig.update_layout(width=1000, height=1000,     scene=dict(\n",
    "        camera = dict(\n",
    "    eye=dict(x=1., y=2.5, z=0.5)\n",
    ")\n",
    "\n",
    "    ),)\n",
    "# Show the figure\n",
    "#fig.show()\n",
    "\n",
    "fig.write_image(\"fig1.png\")\n"
   ]
  },
  {
   "cell_type": "code",
   "execution_count": null,
   "id": "c26edaee",
   "metadata": {},
   "outputs": [],
   "source": []
  },
  {
   "cell_type": "code",
   "execution_count": null,
   "id": "3ad1511b",
   "metadata": {},
   "outputs": [],
   "source": []
  }
 ],
 "metadata": {
  "kernelspec": {
   "display_name": "Python 3 (ipykernel)",
   "language": "python",
   "name": "python3"
  },
  "language_info": {
   "codemirror_mode": {
    "name": "ipython",
    "version": 3
   },
   "file_extension": ".py",
   "mimetype": "text/x-python",
   "name": "python",
   "nbconvert_exporter": "python",
   "pygments_lexer": "ipython3",
   "version": "3.12.2"
  }
 },
 "nbformat": 4,
 "nbformat_minor": 5
}
